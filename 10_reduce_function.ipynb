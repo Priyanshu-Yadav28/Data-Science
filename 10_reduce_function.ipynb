{
 "cells": [
  {
   "cell_type": "code",
   "execution_count": 1,
   "id": "5a8e9f60",
   "metadata": {},
   "outputs": [],
   "source": [
    "# reduce funtion in python "
   ]
  },
  {
   "cell_type": "code",
   "execution_count": 4,
   "id": "e26246bf",
   "metadata": {},
   "outputs": [],
   "source": [
    "# import reduce from functools\n",
    "from functools import reduce "
   ]
  },
  {
   "cell_type": "code",
   "execution_count": 5,
   "id": "21b852db",
   "metadata": {},
   "outputs": [],
   "source": [
    "l = [1, 2, 3, 4, 5]"
   ]
  },
  {
   "cell_type": "code",
   "execution_count": 7,
   "id": "b0fdacc1",
   "metadata": {},
   "outputs": [
    {
     "data": {
      "text/plain": [
       "15"
      ]
     },
     "execution_count": 7,
     "metadata": {},
     "output_type": "execute_result"
    }
   ],
   "source": [
    "reduce(lambda x , y : x + y, l)"
   ]
  },
  {
   "cell_type": "code",
   "execution_count": 9,
   "id": "ce26e0df",
   "metadata": {},
   "outputs": [
    {
     "data": {
      "text/plain": [
       "1"
      ]
     },
     "execution_count": 9,
     "metadata": {},
     "output_type": "execute_result"
    }
   ],
   "source": [
    "reduce(lambda x , y : x + y, [1])"
   ]
  },
  {
   "cell_type": "code",
   "execution_count": 11,
   "id": "8eb030f4",
   "metadata": {},
   "outputs": [
    {
     "data": {
      "text/plain": [
       "120"
      ]
     },
     "execution_count": 11,
     "metadata": {},
     "output_type": "execute_result"
    }
   ],
   "source": [
    "reduce(lambda x, y : x * y, l)"
   ]
  },
  {
   "cell_type": "code",
   "execution_count": 13,
   "id": "6830e24e",
   "metadata": {},
   "outputs": [
    {
     "data": {
      "text/plain": [
       "5"
      ]
     },
     "execution_count": 13,
     "metadata": {},
     "output_type": "execute_result"
    }
   ],
   "source": [
    "reduce(lambda x, y : x if x > y else y, l)"
   ]
  },
  {
   "cell_type": "code",
   "execution_count": null,
   "id": "398b67a4",
   "metadata": {},
   "outputs": [],
   "source": []
  }
 ],
 "metadata": {
  "kernelspec": {
   "display_name": "Python 3 (ipykernel)",
   "language": "python",
   "name": "python3"
  },
  "language_info": {
   "codemirror_mode": {
    "name": "ipython",
    "version": 3
   },
   "file_extension": ".py",
   "mimetype": "text/x-python",
   "name": "python",
   "nbconvert_exporter": "python",
   "pygments_lexer": "ipython3",
   "version": "3.10.9"
  }
 },
 "nbformat": 4,
 "nbformat_minor": 5
}
