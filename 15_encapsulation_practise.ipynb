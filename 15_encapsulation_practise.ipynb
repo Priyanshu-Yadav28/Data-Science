{
 "cells": [
  {
   "cell_type": "code",
   "execution_count": 43,
   "id": "1731bed2",
   "metadata": {},
   "outputs": [
    {
     "name": "stdout",
     "output_type": "stream",
     "text": [
      "Practice and examples of encapsulation\n"
     ]
    }
   ],
   "source": [
    "print(\"Practice and examples of encapsulation\")"
   ]
  },
  {
   "cell_type": "code",
   "execution_count": 47,
   "id": "40d7883a",
   "metadata": {},
   "outputs": [],
   "source": [
    "class student_detail :\n",
    "    \n",
    "    def __init__(self, uid, name, cgpa, skill) :\n",
    "        self.__uid = uid\n",
    "        self.__name = name\n",
    "        self.__cgpa = cgpa\n",
    "        self.__skill = skill\n",
    "        \n",
    "    def get_details(self) :\n",
    "        if self.__cgpa > 8 and self.__skill == \"data science\":\n",
    "            print(\"The student with uid\", self.__uid, \"is elgible for interview\")\n",
    "        else :\n",
    "            print(\"The student with uid\", self.__uid,\"is not eligible for interview\")\n",
    "        "
   ]
  },
  {
   "cell_type": "code",
   "execution_count": 48,
   "id": "e0b2199e",
   "metadata": {},
   "outputs": [],
   "source": [
    "student1 = student_detail(\"21BCS6104\", \"Priyanshu\", 8.80, \"Web Development\")"
   ]
  },
  {
   "cell_type": "code",
   "execution_count": 49,
   "id": "77d3d43c",
   "metadata": {},
   "outputs": [
    {
     "name": "stdout",
     "output_type": "stream",
     "text": [
      "The student with uid 21BCS6104 is not eligible for interview\n"
     ]
    }
   ],
   "source": [
    "student1.get_details()"
   ]
  },
  {
   "cell_type": "code",
   "execution_count": null,
   "id": "cf71b368",
   "metadata": {},
   "outputs": [],
   "source": []
  }
 ],
 "metadata": {
  "kernelspec": {
   "display_name": "Python 3 (ipykernel)",
   "language": "python",
   "name": "python3"
  },
  "language_info": {
   "codemirror_mode": {
    "name": "ipython",
    "version": 3
   },
   "file_extension": ".py",
   "mimetype": "text/x-python",
   "name": "python",
   "nbconvert_exporter": "python",
   "pygments_lexer": "ipython3",
   "version": "3.10.9"
  }
 },
 "nbformat": 4,
 "nbformat_minor": 5
}
