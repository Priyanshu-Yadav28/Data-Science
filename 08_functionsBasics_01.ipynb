{
 "cells": [
  {
   "cell_type": "code",
   "execution_count": 1,
   "id": "4b1469ce",
   "metadata": {},
   "outputs": [],
   "source": [
    "# functions in python "
   ]
  },
  {
   "cell_type": "code",
   "execution_count": 2,
   "id": "25218315",
   "metadata": {},
   "outputs": [],
   "source": [
    "# starts with def keyword \n",
    "# increases code reuseablity "
   ]
  },
  {
   "cell_type": "code",
   "execution_count": 3,
   "id": "ba472fe0",
   "metadata": {},
   "outputs": [],
   "source": [
    "def type() :\n",
    "    print(\"Hello from type function \")\n",
    "    "
   ]
  },
  {
   "cell_type": "code",
   "execution_count": 5,
   "id": "ccf9698c",
   "metadata": {},
   "outputs": [
    {
     "name": "stdout",
     "output_type": "stream",
     "text": [
      "Hello from type function \n"
     ]
    }
   ],
   "source": [
    "type()"
   ]
  },
  {
   "cell_type": "code",
   "execution_count": 6,
   "id": "f49d2a17",
   "metadata": {},
   "outputs": [],
   "source": [
    "def test1() :\n",
    "    print(\"This is my first function\")\n",
    "    "
   ]
  },
  {
   "cell_type": "code",
   "execution_count": 7,
   "id": "b4828684",
   "metadata": {},
   "outputs": [
    {
     "name": "stdout",
     "output_type": "stream",
     "text": [
      "This is my first function\n"
     ]
    }
   ],
   "source": [
    "test1()"
   ]
  },
  {
   "cell_type": "code",
   "execution_count": 8,
   "id": "9c060878",
   "metadata": {},
   "outputs": [],
   "source": [
    "def sum(a, b) :\n",
    "    ans = a + b\n",
    "    return ans"
   ]
  },
  {
   "cell_type": "code",
   "execution_count": 9,
   "id": "72abf59e",
   "metadata": {},
   "outputs": [
    {
     "data": {
      "text/plain": [
       "10"
      ]
     },
     "execution_count": 9,
     "metadata": {},
     "output_type": "execute_result"
    }
   ],
   "source": [
    "sum(5, 5)"
   ]
  },
  {
   "cell_type": "code",
   "execution_count": 10,
   "id": "fc876b72",
   "metadata": {},
   "outputs": [],
   "source": [
    "def func() :\n",
    "    str = \"Hello\"\n",
    "    return str"
   ]
  },
  {
   "cell_type": "code",
   "execution_count": 11,
   "id": "3c227617",
   "metadata": {},
   "outputs": [],
   "source": [
    "word = func() + 'hi'"
   ]
  },
  {
   "cell_type": "code",
   "execution_count": 12,
   "id": "11d93a61",
   "metadata": {},
   "outputs": [
    {
     "data": {
      "text/plain": [
       "'Hellohi'"
      ]
     },
     "execution_count": 12,
     "metadata": {},
     "output_type": "execute_result"
    }
   ],
   "source": [
    "word"
   ]
  },
  {
   "cell_type": "code",
   "execution_count": 13,
   "id": "3165a776",
   "metadata": {},
   "outputs": [],
   "source": [
    "def func3() :\n",
    "    return \"sudh\", 23, 345.323, [1, 2, 3]"
   ]
  },
  {
   "cell_type": "code",
   "execution_count": 14,
   "id": "c100843f",
   "metadata": {},
   "outputs": [
    {
     "data": {
      "text/plain": [
       "('sudh', 23, 345.323, [1, 2, 3])"
      ]
     },
     "execution_count": 14,
     "metadata": {},
     "output_type": "execute_result"
    }
   ],
   "source": [
    "func3()"
   ]
  },
  {
   "cell_type": "code",
   "execution_count": 15,
   "id": "d38f9b62",
   "metadata": {},
   "outputs": [],
   "source": [
    "a, b, c, d =  func3()"
   ]
  },
  {
   "cell_type": "code",
   "execution_count": 16,
   "id": "caf4a56a",
   "metadata": {},
   "outputs": [
    {
     "data": {
      "text/plain": [
       "'sudh'"
      ]
     },
     "execution_count": 16,
     "metadata": {},
     "output_type": "execute_result"
    }
   ],
   "source": [
    "a"
   ]
  },
  {
   "cell_type": "code",
   "execution_count": 17,
   "id": "503079e4",
   "metadata": {},
   "outputs": [
    {
     "data": {
      "text/plain": [
       "23"
      ]
     },
     "execution_count": 17,
     "metadata": {},
     "output_type": "execute_result"
    }
   ],
   "source": [
    "b"
   ]
  },
  {
   "cell_type": "code",
   "execution_count": 18,
   "id": "bcf573e4",
   "metadata": {},
   "outputs": [
    {
     "data": {
      "text/plain": [
       "345.323"
      ]
     },
     "execution_count": 18,
     "metadata": {},
     "output_type": "execute_result"
    }
   ],
   "source": [
    "c"
   ]
  },
  {
   "cell_type": "code",
   "execution_count": 19,
   "id": "4f45123b",
   "metadata": {},
   "outputs": [
    {
     "data": {
      "text/plain": [
       "[1, 2, 3]"
      ]
     },
     "execution_count": 19,
     "metadata": {},
     "output_type": "execute_result"
    }
   ],
   "source": [
    "d"
   ]
  },
  {
   "cell_type": "code",
   "execution_count": 24,
   "id": "9ece3270",
   "metadata": {},
   "outputs": [],
   "source": [
    "def test4() :\n",
    "    a = ((5 + 6) / 7)\n",
    "    return a"
   ]
  },
  {
   "cell_type": "code",
   "execution_count": 25,
   "id": "e8354086",
   "metadata": {},
   "outputs": [
    {
     "data": {
      "text/plain": [
       "1.5714285714285714"
      ]
     },
     "execution_count": 25,
     "metadata": {},
     "output_type": "execute_result"
    }
   ],
   "source": [
    "test4()"
   ]
  },
  {
   "cell_type": "code",
   "execution_count": 26,
   "id": "48502890",
   "metadata": {},
   "outputs": [],
   "source": [
    "def test5(a, b, c) :\n",
    "    ans = a * b / c\n",
    "    return ans"
   ]
  },
  {
   "cell_type": "code",
   "execution_count": 27,
   "id": "13b203fe",
   "metadata": {},
   "outputs": [
    {
     "data": {
      "text/plain": [
       "2.0"
      ]
     },
     "execution_count": 27,
     "metadata": {},
     "output_type": "execute_result"
    }
   ],
   "source": [
    "test5(2, 2, 2)"
   ]
  },
  {
   "cell_type": "code",
   "execution_count": 28,
   "id": "6f8c9b81",
   "metadata": {},
   "outputs": [],
   "source": [
    "def test6(a, b) :\n",
    "    return (a + b)"
   ]
  },
  {
   "cell_type": "code",
   "execution_count": 50,
   "id": "77bc0af1",
   "metadata": {},
   "outputs": [
    {
     "data": {
      "text/plain": [
       "[1, 2, 3, 4, 4, 5, 6]"
      ]
     },
     "execution_count": 50,
     "metadata": {},
     "output_type": "execute_result"
    }
   ],
   "source": [
    "test6([1, 2, 3, 4], [4, 5, 6])"
   ]
  },
  {
   "cell_type": "code",
   "execution_count": 51,
   "id": "ef182411",
   "metadata": {},
   "outputs": [],
   "source": [
    "l = [1, 2, 3, 4, \"sudh\", \"kumar\", [3, 8, 6]]"
   ]
  },
  {
   "cell_type": "code",
   "execution_count": 54,
   "id": "30ce4f97",
   "metadata": {},
   "outputs": [],
   "source": [
    "def test7(l) :\n",
    "    l1 = []\n",
    "    for i in l :\n",
    "        if type(i) == int or type(i) == float :\n",
    "            l1.append(i)\n",
    "    return l1"
   ]
  },
  {
   "cell_type": "code",
   "execution_count": 56,
   "id": "f4c9063d",
   "metadata": {},
   "outputs": [
    {
     "data": {
      "text/plain": [
       "[1, 2, 3, 4, 'sudh', 'kumar', [3, 8, 6]]"
      ]
     },
     "execution_count": 56,
     "metadata": {},
     "output_type": "execute_result"
    }
   ],
   "source": [
    "l"
   ]
  },
  {
   "cell_type": "code",
   "execution_count": 57,
   "id": "4ed7fb8f",
   "metadata": {},
   "outputs": [
    {
     "data": {
      "text/plain": [
       "[]"
      ]
     },
     "execution_count": 57,
     "metadata": {},
     "output_type": "execute_result"
    }
   ],
   "source": [
    "l1"
   ]
  },
  {
   "cell_type": "code",
   "execution_count": 58,
   "id": "de201149",
   "metadata": {},
   "outputs": [],
   "source": [
    "def test8(a) :\n",
    "    l = []\n",
    "    for i in a :\n",
    "        if type(i) == list :\n",
    "            for j in i : \n",
    "                l.append(j)\n",
    "        else :\n",
    "            if type(i) == int or type(i) == float :\n",
    "                l.append(i)\n",
    "    return l\n",
    "                                                                                        "
   ]
  },
  {
   "cell_type": "code",
   "execution_count": 60,
   "id": "96c4bdda",
   "metadata": {},
   "outputs": [],
   "source": [
    "# test8(l)"
   ]
  },
  {
   "cell_type": "code",
   "execution_count": 61,
   "id": "2e0efbbe",
   "metadata": {},
   "outputs": [],
   "source": [
    "def sum(a, b) :\n",
    "    \"\"\"this is my function to add two numbers a, b\"\"\"\n",
    "    sum = a + b\n",
    "    return sum"
   ]
  },
  {
   "cell_type": "code",
   "execution_count": 62,
   "id": "e2998fab",
   "metadata": {},
   "outputs": [
    {
     "data": {
      "text/plain": [
       "10"
      ]
     },
     "execution_count": 62,
     "metadata": {},
     "output_type": "execute_result"
    }
   ],
   "source": [
    "sum(5, 5)"
   ]
  },
  {
   "cell_type": "code",
   "execution_count": 63,
   "id": "604ae80a",
   "metadata": {},
   "outputs": [],
   "source": [
    "# dynamically adding the argument \n",
    "def test11(*args) :\n",
    "    return args"
   ]
  },
  {
   "cell_type": "code",
   "execution_count": 66,
   "id": "e2d89e0b",
   "metadata": {},
   "outputs": [
    {
     "data": {
      "text/plain": [
       "(2, 1, 3, 'priyanshu', 'yadav', 'RaoSahab', [1, 2, 3, 4, 5])"
      ]
     },
     "execution_count": 66,
     "metadata": {},
     "output_type": "execute_result"
    }
   ],
   "source": [
    "test11(2, 1, 3, \"priyanshu\", \"yadav\", \"RaoSahab\", [1, 2, 3, 4, 5])"
   ]
  },
  {
   "cell_type": "code",
   "execution_count": 71,
   "id": "997d3fae",
   "metadata": {},
   "outputs": [],
   "source": [
    "def test12(*priyanshu) :\n",
    "    return priyanshu"
   ]
  },
  {
   "cell_type": "code",
   "execution_count": 72,
   "id": "70d1deca",
   "metadata": {},
   "outputs": [
    {
     "data": {
      "text/plain": [
       "(1, 2, 'RaoSahab', 'RadheRadhe')"
      ]
     },
     "execution_count": 72,
     "metadata": {},
     "output_type": "execute_result"
    }
   ],
   "source": [
    "test12(1, 2, \"RaoSahab\", \"RadheRadhe\")"
   ]
  },
  {
   "cell_type": "code",
   "execution_count": 74,
   "id": "458cc228",
   "metadata": {},
   "outputs": [],
   "source": [
    "def test13(*args, a) :\n",
    "    return args, a"
   ]
  },
  {
   "cell_type": "code",
   "execution_count": 75,
   "id": "a63710fc",
   "metadata": {},
   "outputs": [
    {
     "data": {
      "text/plain": [
       "((1, 2, 3, 4), 'Ayush')"
      ]
     },
     "execution_count": 75,
     "metadata": {},
     "output_type": "execute_result"
    }
   ],
   "source": [
    "test13(1, 2, 3, 4, a = \"Ayush\")"
   ]
  },
  {
   "cell_type": "code",
   "execution_count": 79,
   "id": "10d6ba9d",
   "metadata": {},
   "outputs": [],
   "source": [
    "def test14(c, d, a = 23, b = 1) :\n",
    "    return a, b, c, d"
   ]
  },
  {
   "cell_type": "code",
   "execution_count": 80,
   "id": "3fc9742f",
   "metadata": {},
   "outputs": [
    {
     "data": {
      "text/plain": [
       "(23, 1, 3, 4)"
      ]
     },
     "execution_count": 80,
     "metadata": {},
     "output_type": "execute_result"
    }
   ],
   "source": [
    "test14(3, 4)"
   ]
  },
  {
   "cell_type": "code",
   "execution_count": null,
   "id": "33d28628",
   "metadata": {},
   "outputs": [],
   "source": []
  }
 ],
 "metadata": {
  "kernelspec": {
   "display_name": "Python 3 (ipykernel)",
   "language": "python",
   "name": "python3"
  },
  "language_info": {
   "codemirror_mode": {
    "name": "ipython",
    "version": 3
   },
   "file_extension": ".py",
   "mimetype": "text/x-python",
   "name": "python",
   "nbconvert_exporter": "python",
   "pygments_lexer": "ipython3",
   "version": "3.10.9"
  }
 },
 "nbformat": 4,
 "nbformat_minor": 5
}
