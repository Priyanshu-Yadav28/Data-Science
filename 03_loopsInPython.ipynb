{
 "cells": [
  {
   "cell_type": "code",
   "execution_count": 1,
   "id": "04f0bc81",
   "metadata": {},
   "outputs": [],
   "source": [
    "l = [1, 2, 3, 3, 4, 5, 6, 7, 8]"
   ]
  },
  {
   "cell_type": "code",
   "execution_count": 2,
   "id": "3b544ae6",
   "metadata": {},
   "outputs": [
    {
     "data": {
      "text/plain": [
       "[1, 2, 3, 3, 4, 5, 6, 7, 8]"
      ]
     },
     "execution_count": 2,
     "metadata": {},
     "output_type": "execute_result"
    }
   ],
   "source": [
    "l"
   ]
  },
  {
   "cell_type": "code",
   "execution_count": 6,
   "id": "2ff8ecf8",
   "metadata": {},
   "outputs": [
    {
     "data": {
      "text/plain": [
       "9"
      ]
     },
     "execution_count": 6,
     "metadata": {},
     "output_type": "execute_result"
    }
   ],
   "source": [
    "len(l)"
   ]
  },
  {
   "cell_type": "code",
   "execution_count": 10,
   "id": "6d30dee7",
   "metadata": {},
   "outputs": [
    {
     "name": "stdout",
     "output_type": "stream",
     "text": [
      "[2, 3, 4, 4, 5, 6, 7, 8, 9]\n"
     ]
    }
   ],
   "source": [
    "l1 = []\n",
    "for i in l :\n",
    "   l1.append(i + 1)\n",
    "print(l1)"
   ]
  },
  {
   "cell_type": "code",
   "execution_count": 11,
   "id": "c4e9ec03",
   "metadata": {},
   "outputs": [],
   "source": [
    "l = [1, 2, 3, 4, 1, 5]"
   ]
  },
  {
   "cell_type": "code",
   "execution_count": 13,
   "id": "c2a2d9c2",
   "metadata": {},
   "outputs": [],
   "source": [
    "l1 = [\"sudh\", \"kumar\", \"pwskills\", \"course\"]"
   ]
  },
  {
   "cell_type": "code",
   "execution_count": 14,
   "id": "b02ec86e",
   "metadata": {},
   "outputs": [],
   "source": [
    "ans = []\n",
    "for i in l1 : \n",
    "    capital = i.upper()\n",
    "    ans.append(capital)"
   ]
  },
  {
   "cell_type": "code",
   "execution_count": 15,
   "id": "b8b0e908",
   "metadata": {},
   "outputs": [
    {
     "data": {
      "text/plain": [
       "['SUDH', 'KUMAR', 'PWSKILLS', 'COURSE']"
      ]
     },
     "execution_count": 15,
     "metadata": {},
     "output_type": "execute_result"
    }
   ],
   "source": [
    "ans"
   ]
  },
  {
   "cell_type": "code",
   "execution_count": 16,
   "id": "bdc8103b",
   "metadata": {},
   "outputs": [
    {
     "data": {
      "text/plain": [
       "str"
      ]
     },
     "execution_count": 16,
     "metadata": {},
     "output_type": "execute_result"
    }
   ],
   "source": [
    "l = [1, 2, 3, 4, 4, \"sudh\", \"kumar\", 324, 34.456, \"abc\"]\n",
    "type(l[5])"
   ]
  },
  {
   "cell_type": "code",
   "execution_count": 17,
   "id": "2e370283",
   "metadata": {},
   "outputs": [],
   "source": [
    "#crate two separate list one should contain integer and one should containe only string \n",
    "listInteger = []\n",
    "listString = []\n",
    "for i in l : \n",
    "    if type(i) == int or type(i) == float : \n",
    "        listInteger.append(i)\n",
    "    elif type(i) == str :\n",
    "        listString.append(i)"
   ]
  },
  {
   "cell_type": "code",
   "execution_count": 18,
   "id": "8ff924f7",
   "metadata": {},
   "outputs": [
    {
     "data": {
      "text/plain": [
       "[1, 2, 3, 4, 4, 324, 34.456]"
      ]
     },
     "execution_count": 18,
     "metadata": {},
     "output_type": "execute_result"
    }
   ],
   "source": [
    "listInteger"
   ]
  },
  {
   "cell_type": "code",
   "execution_count": 19,
   "id": "55537896",
   "metadata": {},
   "outputs": [
    {
     "data": {
      "text/plain": [
       "['sudh', 'kumar', 'abc']"
      ]
     },
     "execution_count": 19,
     "metadata": {},
     "output_type": "execute_result"
    }
   ],
   "source": [
    "listString"
   ]
  },
  {
   "cell_type": "code",
   "execution_count": null,
   "id": "8a04530d",
   "metadata": {},
   "outputs": [],
   "source": []
  }
 ],
 "metadata": {
  "kernelspec": {
   "display_name": "Python 3 (ipykernel)",
   "language": "python",
   "name": "python3"
  },
  "language_info": {
   "codemirror_mode": {
    "name": "ipython",
    "version": 3
   },
   "file_extension": ".py",
   "mimetype": "text/x-python",
   "name": "python",
   "nbconvert_exporter": "python",
   "pygments_lexer": "ipython3",
   "version": "3.10.9"
  }
 },
 "nbformat": 4,
 "nbformat_minor": 5
}
