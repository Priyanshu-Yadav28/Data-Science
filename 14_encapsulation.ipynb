{
 "cells": [
  {
   "cell_type": "code",
   "execution_count": 29,
   "id": "0d619ffa",
   "metadata": {},
   "outputs": [
    {
     "name": "stdout",
     "output_type": "stream",
     "text": [
      "Encapsulation in python\n"
     ]
    }
   ],
   "source": [
    "print(\"Encapsulation in python\")"
   ]
  },
  {
   "cell_type": "code",
   "execution_count": 2,
   "id": "ed5cded6",
   "metadata": {},
   "outputs": [],
   "source": [
    "class test :\n",
    "    \n",
    "#     constructor\n",
    "    def __init__(self, a, b) :\n",
    "        self.a = a\n",
    "        self.b = b\n",
    "        \n",
    "    def print(self) :\n",
    "        return self.a, self.b"
   ]
  },
  {
   "cell_type": "code",
   "execution_count": 3,
   "id": "65730e69",
   "metadata": {},
   "outputs": [],
   "source": [
    "t = test(23, 34)"
   ]
  },
  {
   "cell_type": "code",
   "execution_count": 4,
   "id": "bdc29dba",
   "metadata": {},
   "outputs": [
    {
     "data": {
      "text/plain": [
       "(23, 34)"
      ]
     },
     "execution_count": 4,
     "metadata": {},
     "output_type": "execute_result"
    }
   ],
   "source": [
    "t.print()"
   ]
  },
  {
   "cell_type": "code",
   "execution_count": 5,
   "id": "c9fef1fd",
   "metadata": {},
   "outputs": [],
   "source": [
    "t.a = 23433"
   ]
  },
  {
   "cell_type": "code",
   "execution_count": 6,
   "id": "aafe1acf",
   "metadata": {},
   "outputs": [
    {
     "data": {
      "text/plain": [
       "(23433, 34)"
      ]
     },
     "execution_count": 6,
     "metadata": {},
     "output_type": "execute_result"
    }
   ],
   "source": [
    "t.print()"
   ]
  },
  {
   "cell_type": "code",
   "execution_count": 7,
   "id": "ade5ff5a",
   "metadata": {},
   "outputs": [],
   "source": [
    "class car :\n",
    "    \n",
    "    def __init__(self, year, make, model, speed) :\n",
    "        self.__year = year\n",
    "        self.__make = make\n",
    "        self.__model = model\n",
    "        self.__speed = 100\n",
    "        \n",
    "    def set_speed(self, speed) :\n",
    "        self.__speed = 0 if speed < 0 else speed\n",
    "        \n",
    "    def get_speed(self) :\n",
    "        return self.__speed"
   ]
  },
  {
   "cell_type": "code",
   "execution_count": 8,
   "id": "9c5cd54a",
   "metadata": {},
   "outputs": [],
   "source": [
    "c = car(2023, \"JAP\", \"Japper\", 230)"
   ]
  },
  {
   "cell_type": "code",
   "execution_count": 9,
   "id": "e88eb408",
   "metadata": {},
   "outputs": [
    {
     "data": {
      "text/plain": [
       "2023"
      ]
     },
     "execution_count": 9,
     "metadata": {},
     "output_type": "execute_result"
    }
   ],
   "source": [
    "c._car__year \n",
    "\n",
    "# we will not be able to directly acces any of the object parameter by defalut calling methods like\n",
    "# c.year \n",
    "#c.__year \n",
    "# as soon as we put double underscore(__) the variable beomes private and we cannot directly access it\n"
   ]
  },
  {
   "cell_type": "code",
   "execution_count": 10,
   "id": "0b978d26",
   "metadata": {},
   "outputs": [
    {
     "data": {
      "text/plain": [
       "120"
      ]
     },
     "execution_count": 10,
     "metadata": {},
     "output_type": "execute_result"
    }
   ],
   "source": [
    "c.set_speed(120)\n",
    "c.get_speed()"
   ]
  },
  {
   "cell_type": "code",
   "execution_count": 4,
   "id": "d42751e8",
   "metadata": {},
   "outputs": [],
   "source": [
    "class bank_account :\n",
    "    \n",
    "    def __init__(self, balance) :\n",
    "        self.__balance = balance\n",
    "        \n",
    "    def deposit(self, amount) :\n",
    "        self.__balance = self.__balance + amount\n",
    "        \n",
    "    def withdraw(self, amount) :\n",
    "        if self.__balance >= amount :\n",
    "            self.__balance = self.__balance - amount\n",
    "            return True\n",
    "        else :\n",
    "            return False\n",
    "        \n",
    "    def get_balance(self) :\n",
    "        return self.__balance\n",
    "            "
   ]
  },
  {
   "cell_type": "code",
   "execution_count": 63,
   "id": "e8f56ba0",
   "metadata": {},
   "outputs": [],
   "source": [
    "priyanshu = bank_account(50000000)"
   ]
  },
  {
   "cell_type": "code",
   "execution_count": 64,
   "id": "99d07f99",
   "metadata": {},
   "outputs": [
    {
     "data": {
      "text/plain": [
       "0"
      ]
     },
     "execution_count": 64,
     "metadata": {},
     "output_type": "execute_result"
    }
   ],
   "source": [
    "priyanshu.get_balance()"
   ]
  },
  {
   "cell_type": "code",
   "execution_count": 65,
   "id": "ba009932",
   "metadata": {},
   "outputs": [],
   "source": [
    "priyanshu.deposit(5000)"
   ]
  },
  {
   "cell_type": "code",
   "execution_count": 66,
   "id": "57e5b06d",
   "metadata": {},
   "outputs": [
    {
     "data": {
      "text/plain": [
       "5000"
      ]
     },
     "execution_count": 66,
     "metadata": {},
     "output_type": "execute_result"
    }
   ],
   "source": [
    "priyanshu.get_balance()"
   ]
  },
  {
   "cell_type": "code",
   "execution_count": 67,
   "id": "6f8aad54",
   "metadata": {},
   "outputs": [],
   "source": [
    "priyanshu.deposit(3000)"
   ]
  },
  {
   "cell_type": "code",
   "execution_count": 68,
   "id": "49c60d48",
   "metadata": {},
   "outputs": [
    {
     "data": {
      "text/plain": [
       "8000"
      ]
     },
     "execution_count": 68,
     "metadata": {},
     "output_type": "execute_result"
    }
   ],
   "source": [
    "priyanshu.get_balance()"
   ]
  },
  {
   "cell_type": "code",
   "execution_count": 69,
   "id": "7731ce24",
   "metadata": {},
   "outputs": [
    {
     "data": {
      "text/plain": [
       "True"
      ]
     },
     "execution_count": 69,
     "metadata": {},
     "output_type": "execute_result"
    }
   ],
   "source": [
    "priyanshu.withdraw(1000)"
   ]
  },
  {
   "cell_type": "code",
   "execution_count": 70,
   "id": "71cd1b51",
   "metadata": {},
   "outputs": [
    {
     "data": {
      "text/plain": [
       "7000"
      ]
     },
     "execution_count": 70,
     "metadata": {},
     "output_type": "execute_result"
    }
   ],
   "source": [
    "priyanshu.get_balance()"
   ]
  },
  {
   "cell_type": "code",
   "execution_count": null,
   "id": "a7f59808",
   "metadata": {},
   "outputs": [],
   "source": []
  }
 ],
 "metadata": {
  "kernelspec": {
   "display_name": "Python 3 (ipykernel)",
   "language": "python",
   "name": "python3"
  },
  "language_info": {
   "codemirror_mode": {
    "name": "ipython",
    "version": 3
   },
   "file_extension": ".py",
   "mimetype": "text/x-python",
   "name": "python",
   "nbconvert_exporter": "python",
   "pygments_lexer": "ipython3",
   "version": "3.10.9"
  }
 },
 "nbformat": 4,
 "nbformat_minor": 5
}
