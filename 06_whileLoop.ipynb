{
 "cells": [
  {
   "cell_type": "code",
   "execution_count": 1,
   "id": "a11c7c72",
   "metadata": {
    "scrolled": true
   },
   "outputs": [
    {
     "name": "stdout",
     "output_type": "stream",
     "text": [
      "1\n",
      "2\n",
      "3\n",
      "4\n",
      "5\n",
      "6\n",
      "7\n",
      "8\n",
      "9\n",
      "10\n"
     ]
    }
   ],
   "source": [
    "a = 1\n",
    "while a <= 10 :\n",
    "    print(a)\n",
    "    a += 1"
   ]
  },
  {
   "cell_type": "code",
   "execution_count": 2,
   "id": "7c14f7e8",
   "metadata": {},
   "outputs": [
    {
     "name": "stdout",
     "output_type": "stream",
     "text": [
      "Enter the number till you want to find the sum5\n",
      "15\n"
     ]
    }
   ],
   "source": [
    "# sum up the number till some  point\n",
    "num = int (input(\"Enter the number till you want to find the sum\"))\n",
    "\n",
    "start = 1\n",
    "sum = 0\n",
    "\n",
    "while start <= num :\n",
    "    sum = sum + start\n",
    "    start = start + 1\n",
    "\n",
    "print(sum)"
   ]
  },
  {
   "cell_type": "code",
   "execution_count": 3,
   "id": "983053b6",
   "metadata": {},
   "outputs": [
    {
     "name": "stdout",
     "output_type": "stream",
     "text": [
      "Enter the number to find its factorial4\n"
     ]
    },
    {
     "data": {
      "text/plain": [
       "24"
      ]
     },
     "execution_count": 3,
     "metadata": {},
     "output_type": "execute_result"
    }
   ],
   "source": [
    "# factorial of a number \n",
    "\n",
    "num = int(input(\"Enter the number to find its factorial\"))\n",
    "start = 1\n",
    "factorial = 1\n",
    "while num > 0 :\n",
    "    factorial = factorial * num \n",
    "    num = num - 1\n",
    "factorial"
   ]
  },
  {
   "cell_type": "code",
   "execution_count": 4,
   "id": "6766fab5",
   "metadata": {},
   "outputs": [
    {
     "name": "stdout",
     "output_type": "stream",
     "text": [
      "Enter the number till you want the fibonnacci series5\n",
      "0\n",
      "1\n",
      "1\n",
      "2\n",
      "3\n"
     ]
    }
   ],
   "source": [
    "# fibonnacci series \n",
    "count = (int(input(\"Enter the number till you want the fibonnacci series\")))\n",
    "first = 0\n",
    "second = 1\n",
    "fib = 0\n",
    "counter = 0\n",
    "while counter < count :\n",
    "    print(first)\n",
    "    fib = first + second\n",
    "    first = second \n",
    "    second = fib\n",
    "    counter = counter + 1\n"
   ]
  },
  {
   "cell_type": "code",
   "execution_count": 9,
   "id": "1e3c1211",
   "metadata": {},
   "outputs": [],
   "source": [
    "# reversing a string with loop "
   ]
  },
  {
   "cell_type": "code",
   "execution_count": 5,
   "id": "fdf23680",
   "metadata": {},
   "outputs": [
    {
     "name": "stdout",
     "output_type": "stream",
     "text": [
      "Enter the word you want to reversepriyanshu\n"
     ]
    }
   ],
   "source": [
    "word = input(\"Enter the word you want to reverse\")"
   ]
  },
  {
   "cell_type": "code",
   "execution_count": 6,
   "id": "fba6c0a6",
   "metadata": {},
   "outputs": [
    {
     "name": "stdout",
     "output_type": "stream",
     "text": [
      " uhsnayirp\n"
     ]
    }
   ],
   "source": [
    "reverse = \" \"\n",
    "length = len(word)\n",
    "while length > 0 :\n",
    "    reverse = reverse + word[length - 1]\n",
    "    length = length - 1\n",
    "print(reverse)\n"
   ]
  },
  {
   "cell_type": "code",
   "execution_count": 7,
   "id": "dec06034",
   "metadata": {},
   "outputs": [
    {
     "name": "stdout",
     "output_type": "stream",
     "text": [
      "Enter the number whose table you want5\n",
      "5 x 1 = 5\n",
      "5 x 2 = 10\n",
      "5 x 3 = 15\n",
      "5 x 4 = 20\n",
      "5 x 5 = 25\n",
      "5 x 6 = 30\n",
      "5 x 7 = 35\n",
      "5 x 8 = 40\n",
      "5 x 9 = 45\n",
      "5 x 10 = 50\n"
     ]
    }
   ],
   "source": [
    "# print table of a number \n",
    "number = (int(input(\"Enter the number whose table you want\")))\n",
    "i = 1\n",
    "while i <= 10 :\n",
    "    print(number, 'x', i , '=', number * i)\n",
    "    i = i + 1"
   ]
  },
  {
   "cell_type": "code",
   "execution_count": null,
   "id": "084fd6b9",
   "metadata": {},
   "outputs": [],
   "source": []
  }
 ],
 "metadata": {
  "kernelspec": {
   "display_name": "Python 3 (ipykernel)",
   "language": "python",
   "name": "python3"
  },
  "language_info": {
   "codemirror_mode": {
    "name": "ipython",
    "version": 3
   },
   "file_extension": ".py",
   "mimetype": "text/x-python",
   "name": "python",
   "nbconvert_exporter": "python",
   "pygments_lexer": "ipython3",
   "version": "3.10.9"
  }
 },
 "nbformat": 4,
 "nbformat_minor": 5
}
