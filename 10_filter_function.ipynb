{
 "cells": [
  {
   "cell_type": "code",
   "execution_count": 1,
   "id": "74bb7d08",
   "metadata": {},
   "outputs": [],
   "source": [
    "# filter functoin in python "
   ]
  },
  {
   "cell_type": "code",
   "execution_count": 2,
   "id": "256fc504",
   "metadata": {},
   "outputs": [],
   "source": [
    "l = [1, 2, 3, 4, 5]"
   ]
  },
  {
   "cell_type": "code",
   "execution_count": 3,
   "id": "e85b8df3",
   "metadata": {},
   "outputs": [
    {
     "data": {
      "text/plain": [
       "[1, 2, 3, 4, 5]"
      ]
     },
     "execution_count": 3,
     "metadata": {},
     "output_type": "execute_result"
    }
   ],
   "source": [
    "l"
   ]
  },
  {
   "cell_type": "code",
   "execution_count": 4,
   "id": "38e8e4cd",
   "metadata": {},
   "outputs": [],
   "source": [
    "# find even number , odd number and even number from the list"
   ]
  },
  {
   "cell_type": "code",
   "execution_count": 6,
   "id": "96d65493",
   "metadata": {},
   "outputs": [
    {
     "data": {
      "text/plain": [
       "[2, 4]"
      ]
     },
     "execution_count": 6,
     "metadata": {},
     "output_type": "execute_result"
    }
   ],
   "source": [
    "list(filter(lambda x : x % 2 == 0, l))"
   ]
  },
  {
   "cell_type": "code",
   "execution_count": 7,
   "id": "ef69f72c",
   "metadata": {},
   "outputs": [],
   "source": [
    "# for odd numbers"
   ]
  },
  {
   "cell_type": "code",
   "execution_count": 10,
   "id": "3361f172",
   "metadata": {},
   "outputs": [
    {
     "data": {
      "text/plain": [
       "[1, 3, 5]"
      ]
     },
     "execution_count": 10,
     "metadata": {},
     "output_type": "execute_result"
    }
   ],
   "source": [
    "list(filter(lambda x : x % 2 != 0, l))"
   ]
  },
  {
   "cell_type": "code",
   "execution_count": 11,
   "id": "387f382d",
   "metadata": {},
   "outputs": [],
   "source": [
    "l1 = [-3, 1, 5, -6, -9, 11, -18]"
   ]
  },
  {
   "cell_type": "code",
   "execution_count": 12,
   "id": "9e469eeb",
   "metadata": {},
   "outputs": [],
   "source": [
    "# find negative elements from the list"
   ]
  },
  {
   "cell_type": "code",
   "execution_count": 16,
   "id": "60b91a40",
   "metadata": {},
   "outputs": [
    {
     "data": {
      "text/plain": [
       "[-3, -6, -9, -18]"
      ]
     },
     "execution_count": 16,
     "metadata": {},
     "output_type": "execute_result"
    }
   ],
   "source": [
    "list(filter(lambda x : x < 0, l1))"
   ]
  },
  {
   "cell_type": "code",
   "execution_count": 17,
   "id": "2b173137",
   "metadata": {},
   "outputs": [],
   "source": [
    "l1 = [\"sudh\", \"yadav\", \"pwskills\", \"kumar\", \"banglore\", \"krish\"]"
   ]
  },
  {
   "cell_type": "code",
   "execution_count": 18,
   "id": "49a24eb9",
   "metadata": {},
   "outputs": [
    {
     "data": {
      "text/plain": [
       "['sudh', 'yadav', 'pwskills', 'kumar', 'banglore', 'krish']"
      ]
     },
     "execution_count": 18,
     "metadata": {},
     "output_type": "execute_result"
    }
   ],
   "source": [
    "l1"
   ]
  },
  {
   "cell_type": "code",
   "execution_count": 19,
   "id": "c0fe9e51",
   "metadata": {},
   "outputs": [
    {
     "data": {
      "text/plain": [
       "['sudh', 'yadav', 'kumar', 'krish']"
      ]
     },
     "execution_count": 19,
     "metadata": {},
     "output_type": "execute_result"
    }
   ],
   "source": [
    "list(filter(lambda str : len(str) < 6, l1))"
   ]
  },
  {
   "cell_type": "code",
   "execution_count": null,
   "id": "7ee5fb25",
   "metadata": {},
   "outputs": [],
   "source": []
  }
 ],
 "metadata": {
  "kernelspec": {
   "display_name": "Python 3 (ipykernel)",
   "language": "python",
   "name": "python3"
  },
  "language_info": {
   "codemirror_mode": {
    "name": "ipython",
    "version": 3
   },
   "file_extension": ".py",
   "mimetype": "text/x-python",
   "name": "python",
   "nbconvert_exporter": "python",
   "pygments_lexer": "ipython3",
   "version": "3.10.9"
  }
 },
 "nbformat": 4,
 "nbformat_minor": 5
}
