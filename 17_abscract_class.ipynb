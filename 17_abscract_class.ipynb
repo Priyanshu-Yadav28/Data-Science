{
 "cells": [
  {
   "cell_type": "code",
   "execution_count": 2,
   "id": "49bd7076",
   "metadata": {},
   "outputs": [
    {
     "name": "stdout",
     "output_type": "stream",
     "text": [
      "abstract class in python\n"
     ]
    }
   ],
   "source": [
    "print(\"abstract class in python\")"
   ]
  },
  {
   "cell_type": "code",
   "execution_count": 4,
   "id": "6eca1a4d",
   "metadata": {},
   "outputs": [],
   "source": [
    "import abc\n",
    "class pwskills : \n",
    "    \n",
    "    @abc.abstractclassmethod\n",
    "    def student_details(self) :\n",
    "        pass\n",
    "    \n",
    "    @abc.abstractclassmethod\n",
    "    def student_assignment(self) :\n",
    "        pass\n",
    "    \n",
    "    @abc.abstractclassmethod\n",
    "    def student_marks(self) :\n",
    "        pass"
   ]
  },
  {
   "cell_type": "code",
   "execution_count": 5,
   "id": "80442b0a",
   "metadata": {},
   "outputs": [],
   "source": [
    "class student_details(pwskills) :\n",
    "    \n",
    "    def students_details(self) :\n",
    "        return \"This is a method for taking students details\"\n",
    "    \n",
    "    def student_assignment(self) :\n",
    "        return \"This is a method for assing details for a particular student\""
   ]
  },
  {
   "cell_type": "code",
   "execution_count": 6,
   "id": "a73040f2",
   "metadata": {},
   "outputs": [],
   "source": [
    "class data_science_masters(pwskills) :\n",
    "    \n",
    "    def students_details(self) :\n",
    "        return \"This will return student details for data science masters\"\n",
    "    \n",
    "    def student_assignment(self) :\n",
    "        return \"This will return student assingment for data science masters\""
   ]
  },
  {
   "cell_type": "code",
   "execution_count": 8,
   "id": "9dc96847",
   "metadata": {},
   "outputs": [
    {
     "data": {
      "text/plain": [
       "'This will return student details for data science masters'"
      ]
     },
     "execution_count": 8,
     "metadata": {},
     "output_type": "execute_result"
    }
   ],
   "source": [
    "dsm = data_science_masters()\n",
    "dsm.students_details()"
   ]
  },
  {
   "cell_type": "code",
   "execution_count": 11,
   "id": "25d62cfd",
   "metadata": {},
   "outputs": [
    {
     "data": {
      "text/plain": [
       "'This is a method for taking students details'"
      ]
     },
     "execution_count": 11,
     "metadata": {},
     "output_type": "execute_result"
    }
   ],
   "source": [
    "sd = student_details()\n",
    "sd.students_details()"
   ]
  },
  {
   "cell_type": "code",
   "execution_count": 12,
   "id": "ef7eabc9",
   "metadata": {},
   "outputs": [
    {
     "data": {
      "text/plain": [
       "'This is a method for assing details for a particular student'"
      ]
     },
     "execution_count": 12,
     "metadata": {},
     "output_type": "execute_result"
    }
   ],
   "source": [
    "sd.student_assignment()"
   ]
  },
  {
   "cell_type": "code",
   "execution_count": null,
   "id": "ea366d43",
   "metadata": {},
   "outputs": [],
   "source": []
  }
 ],
 "metadata": {
  "kernelspec": {
   "display_name": "Python 3 (ipykernel)",
   "language": "python",
   "name": "python3"
  },
  "language_info": {
   "codemirror_mode": {
    "name": "ipython",
    "version": 3
   },
   "file_extension": ".py",
   "mimetype": "text/x-python",
   "name": "python",
   "nbconvert_exporter": "python",
   "pygments_lexer": "ipython3",
   "version": "3.10.9"
  }
 },
 "nbformat": 4,
 "nbformat_minor": 5
}
