{
 "cells": [
  {
   "cell_type": "code",
   "execution_count": 2,
   "id": "3558e33f",
   "metadata": {},
   "outputs": [],
   "source": [
    "#Lambda Function in Python\n",
    "                # also known as one line functio or anonymous functoin"
   ]
  },
  {
   "cell_type": "code",
   "execution_count": 3,
   "id": "f31f5ac5",
   "metadata": {},
   "outputs": [],
   "source": [
    "n = 3\n",
    "p = 2"
   ]
  },
  {
   "cell_type": "code",
   "execution_count": 7,
   "id": "5eceb8f8",
   "metadata": {},
   "outputs": [],
   "source": [
    "# normal function declaration\n",
    "def test(n, p) :\n",
    "    return n** p"
   ]
  },
  {
   "cell_type": "code",
   "execution_count": 8,
   "id": "6b2209de",
   "metadata": {},
   "outputs": [
    {
     "data": {
      "text/plain": [
       "9"
      ]
     },
     "execution_count": 8,
     "metadata": {},
     "output_type": "execute_result"
    }
   ],
   "source": [
    "test(3, 2)"
   ]
  },
  {
   "cell_type": "code",
   "execution_count": 13,
   "id": "866df1d8",
   "metadata": {},
   "outputs": [],
   "source": [
    "# writing a labda function \n",
    "a = lambda n, p : n**p\n",
    "# function has no name "
   ]
  },
  {
   "cell_type": "code",
   "execution_count": 16,
   "id": "9d7fe206",
   "metadata": {},
   "outputs": [
    {
     "data": {
      "text/plain": [
       "9"
      ]
     },
     "execution_count": 16,
     "metadata": {},
     "output_type": "execute_result"
    }
   ],
   "source": [
    "a(3, 2)"
   ]
  },
  {
   "cell_type": "code",
   "execution_count": 17,
   "id": "503cebc4",
   "metadata": {},
   "outputs": [
    {
     "data": {
      "text/plain": [
       "5"
      ]
     },
     "execution_count": 17,
     "metadata": {},
     "output_type": "execute_result"
    }
   ],
   "source": [
    "add = lambda x, y : x + y\n",
    "add(2, 3)"
   ]
  },
  {
   "cell_type": "code",
   "execution_count": 27,
   "id": "19b2f19b",
   "metadata": {},
   "outputs": [
    {
     "data": {
      "text/plain": [
       "113.0"
      ]
     },
     "execution_count": 27,
     "metadata": {},
     "output_type": "execute_result"
    }
   ],
   "source": [
    "# write a program to convert celcius to farhenite \n",
    "celciusToFareh = lambda degC : (9 / 5) * degC + 32\n",
    "\n",
    "celciusToFareh(45)"
   ]
  },
  {
   "cell_type": "code",
   "execution_count": 24,
   "id": "977a8d00",
   "metadata": {},
   "outputs": [],
   "source": [
    "sum = lambda num1, num2 : num1 *  num2 "
   ]
  },
  {
   "cell_type": "code",
   "execution_count": 25,
   "id": "5480b864",
   "metadata": {},
   "outputs": [
    {
     "data": {
      "text/plain": [
       "27"
      ]
     },
     "execution_count": 25,
     "metadata": {},
     "output_type": "execute_result"
    }
   ],
   "source": [
    "sum(3, 9)"
   ]
  },
  {
   "cell_type": "code",
   "execution_count": 23,
   "id": "1fb715a0",
   "metadata": {},
   "outputs": [],
   "source": [
    "# whrerever small functions are required there we can use lambda function "
   ]
  },
  {
   "cell_type": "code",
   "execution_count": 28,
   "id": "2ebf7ae0",
   "metadata": {},
   "outputs": [],
   "source": [
    "# finding maximum between two numbers uing lambda function "
   ]
  },
  {
   "cell_type": "code",
   "execution_count": 33,
   "id": "9935902a",
   "metadata": {},
   "outputs": [],
   "source": [
    "finding_max = lambda num1, num2 :  num1 if num1 > num2 else num2"
   ]
  },
  {
   "cell_type": "code",
   "execution_count": 35,
   "id": "f660d2b9",
   "metadata": {},
   "outputs": [
    {
     "data": {
      "text/plain": [
       "100"
      ]
     },
     "execution_count": 35,
     "metadata": {},
     "output_type": "execute_result"
    }
   ],
   "source": [
    "finding_max(34, 100)"
   ]
  },
  {
   "cell_type": "code",
   "execution_count": 36,
   "id": "7b7d7b44",
   "metadata": {},
   "outputs": [],
   "source": [
    "s = \"pwskills\""
   ]
  },
  {
   "cell_type": "code",
   "execution_count": 38,
   "id": "3ea4e823",
   "metadata": {},
   "outputs": [],
   "source": [
    "str_len = lambda s :  len(s)"
   ]
  },
  {
   "cell_type": "code",
   "execution_count": 39,
   "id": "89b59aeb",
   "metadata": {},
   "outputs": [
    {
     "data": {
      "text/plain": [
       "8"
      ]
     },
     "execution_count": 39,
     "metadata": {},
     "output_type": "execute_result"
    }
   ],
   "source": [
    "str_len(s)"
   ]
  },
  {
   "cell_type": "code",
   "execution_count": null,
   "id": "133ecda0",
   "metadata": {},
   "outputs": [],
   "source": []
  }
 ],
 "metadata": {
  "kernelspec": {
   "display_name": "Python 3 (ipykernel)",
   "language": "python",
   "name": "python3"
  },
  "language_info": {
   "codemirror_mode": {
    "name": "ipython",
    "version": 3
   },
   "file_extension": ".py",
   "mimetype": "text/x-python",
   "name": "python",
   "nbconvert_exporter": "python",
   "pygments_lexer": "ipython3",
   "version": "3.10.9"
  }
 },
 "nbformat": 4,
 "nbformat_minor": 5
}
