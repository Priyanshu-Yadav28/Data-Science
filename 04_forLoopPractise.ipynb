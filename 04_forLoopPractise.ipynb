{
 "cells": [
  {
   "cell_type": "code",
   "execution_count": 1,
   "id": "9ab46694",
   "metadata": {},
   "outputs": [],
   "source": [
    "l = [1, 2, 3, 4, 5]"
   ]
  },
  {
   "cell_type": "code",
   "execution_count": 6,
   "id": "7074ad3e",
   "metadata": {},
   "outputs": [
    {
     "name": "stdout",
     "output_type": "stream",
     "text": [
      "1\n",
      "2\n",
      "3\n",
      "4\n",
      "5\n"
     ]
    }
   ],
   "source": [
    "for i in l : \n",
    "    print(i)"
   ]
  },
  {
   "cell_type": "code",
   "execution_count": 7,
   "id": "6b5d8019",
   "metadata": {},
   "outputs": [],
   "source": [
    "l1 = [\"Priyanshu\", \"Yadav\"]"
   ]
  },
  {
   "cell_type": "code",
   "execution_count": 9,
   "id": "e0db53f5",
   "metadata": {},
   "outputs": [
    {
     "name": "stdout",
     "output_type": "stream",
     "text": [
      "Priyanshu\n",
      "Yadav\n"
     ]
    }
   ],
   "source": [
    "for i in l1 :\n",
    "    print(i)"
   ]
  },
  {
   "cell_type": "code",
   "execution_count": 10,
   "id": "1ddd43a4",
   "metadata": {},
   "outputs": [],
   "source": [
    "# for else loop"
   ]
  },
  {
   "cell_type": "code",
   "execution_count": 14,
   "id": "cce7bf52",
   "metadata": {},
   "outputs": [
    {
     "name": "stdout",
     "output_type": "stream",
     "text": [
      "Priyanshu\n",
      "Yadav\n",
      "do something\n"
     ]
    }
   ],
   "source": [
    "for i in l1 :\n",
    "    print(i)\n",
    "else :\n",
    "    print(\"do something\")\n",
    "# else will be executed when for loop is successfully executed then else will be executed"
   ]
  },
  {
   "cell_type": "code",
   "execution_count": 15,
   "id": "77a7a393",
   "metadata": {},
   "outputs": [
    {
     "data": {
      "text/plain": [
       "['Priyanshu', 'Yadav']"
      ]
     },
     "execution_count": 15,
     "metadata": {},
     "output_type": "execute_result"
    }
   ],
   "source": [
    "l1"
   ]
  },
  {
   "cell_type": "code",
   "execution_count": 18,
   "id": "b8c096ba",
   "metadata": {},
   "outputs": [
    {
     "name": "stdout",
     "output_type": "stream",
     "text": [
      "Priyanshu\n"
     ]
    }
   ],
   "source": [
    "for i in l1 :\n",
    "    if i == \"Yadav\" :\n",
    "        break\n",
    "    print(i)"
   ]
  },
  {
   "cell_type": "code",
   "execution_count": 21,
   "id": "4a52d872",
   "metadata": {},
   "outputs": [
    {
     "name": "stdout",
     "output_type": "stream",
     "text": [
      "Priyanshu\n"
     ]
    }
   ],
   "source": [
    "for i in l1 :\n",
    "    if i == \"Yadav\" :\n",
    "        break\n",
    "    print(i)\n",
    "else :\n",
    "    print(\"execute this if for loop is able to complete itself\")"
   ]
  },
  {
   "cell_type": "code",
   "execution_count": 23,
   "id": "c6c6f0be",
   "metadata": {},
   "outputs": [
    {
     "data": {
      "text/plain": [
       "['Priyanshu', 'Yadav']"
      ]
     },
     "execution_count": 23,
     "metadata": {},
     "output_type": "execute_result"
    }
   ],
   "source": [
    "l1"
   ]
  },
  {
   "cell_type": "code",
   "execution_count": 24,
   "id": "a93f5035",
   "metadata": {},
   "outputs": [
    {
     "name": "stdout",
     "output_type": "stream",
     "text": [
      "Yadav\n"
     ]
    }
   ],
   "source": [
    "for i in l1 :\n",
    "    if i == \"Priyanshu\" :\n",
    "        continue\n",
    "    print(i)"
   ]
  },
  {
   "cell_type": "code",
   "execution_count": null,
   "id": "00eeec7c",
   "metadata": {},
   "outputs": [],
   "source": [
    "for i in l1 :\n",
    "    if i == \"Priyanshu\" :\n",
    "        continue\n",
    "    print(i)\n",
    "else :\n",
    "    print(\"execute this if for loop is able to complete itself\")"
   ]
  },
  {
   "cell_type": "code",
   "execution_count": 26,
   "id": "cf08d3ba",
   "metadata": {},
   "outputs": [
    {
     "data": {
      "text/plain": [
       "range(0, 5)"
      ]
     },
     "execution_count": 26,
     "metadata": {},
     "output_type": "execute_result"
    }
   ],
   "source": [
    "range(5)"
   ]
  },
  {
   "cell_type": "code",
   "execution_count": 28,
   "id": "96e39396",
   "metadata": {},
   "outputs": [
    {
     "data": {
      "text/plain": [
       "[0, 1, 2, 3, 4]"
      ]
     },
     "execution_count": 28,
     "metadata": {},
     "output_type": "execute_result"
    }
   ],
   "source": [
    "list(range(5))"
   ]
  },
  {
   "cell_type": "code",
   "execution_count": 29,
   "id": "acc94b94",
   "metadata": {},
   "outputs": [
    {
     "data": {
      "text/plain": [
       "[0, 2, 4]"
      ]
     },
     "execution_count": 29,
     "metadata": {},
     "output_type": "execute_result"
    }
   ],
   "source": [
    "list(range(0, 5, 2))"
   ]
  },
  {
   "cell_type": "code",
   "execution_count": 32,
   "id": "ef756b66",
   "metadata": {},
   "outputs": [
    {
     "data": {
      "text/plain": [
       "[0, 2, 4, 6, 8, 10, 12, 14, 16, 18]"
      ]
     },
     "execution_count": 32,
     "metadata": {},
     "output_type": "execute_result"
    }
   ],
   "source": [
    "list(range(0, 20, 2))"
   ]
  },
  {
   "cell_type": "code",
   "execution_count": 33,
   "id": "34922b8a",
   "metadata": {},
   "outputs": [
    {
     "data": {
      "text/plain": [
       "[-10, -9, -8, -7, -6, -5, -4, -3, -2, -1]"
      ]
     },
     "execution_count": 33,
     "metadata": {},
     "output_type": "execute_result"
    }
   ],
   "source": [
    "list(range(-10, 0))"
   ]
  },
  {
   "cell_type": "code",
   "execution_count": 34,
   "id": "b465f862",
   "metadata": {},
   "outputs": [
    {
     "data": {
      "text/plain": [
       "['Priyanshu', 'Yadav']"
      ]
     },
     "execution_count": 34,
     "metadata": {},
     "output_type": "execute_result"
    }
   ],
   "source": [
    "l1"
   ]
  },
  {
   "cell_type": "code",
   "execution_count": 40,
   "id": "4f040bf8",
   "metadata": {},
   "outputs": [],
   "source": [
    "l1 = ['Priyanshu', 'Yadav']"
   ]
  },
  {
   "cell_type": "code",
   "execution_count": 41,
   "id": "7a39f34c",
   "metadata": {},
   "outputs": [
    {
     "data": {
      "text/plain": [
       "['Priyanshu', 'Yadav']"
      ]
     },
     "execution_count": 41,
     "metadata": {},
     "output_type": "execute_result"
    }
   ],
   "source": [
    "l1"
   ]
  },
  {
   "cell_type": "code",
   "execution_count": 42,
   "id": "cbee3f52",
   "metadata": {},
   "outputs": [],
   "source": [
    "l1.insert(2, \"Ayush\")"
   ]
  },
  {
   "cell_type": "code",
   "execution_count": 43,
   "id": "389591b6",
   "metadata": {},
   "outputs": [],
   "source": [
    "l1.insert(3, \"Jimmy\")"
   ]
  },
  {
   "cell_type": "code",
   "execution_count": 44,
   "id": "01846516",
   "metadata": {},
   "outputs": [
    {
     "data": {
      "text/plain": [
       "['Priyanshu', 'Yadav', 'Ayush', 'Jimmy']"
      ]
     },
     "execution_count": 44,
     "metadata": {},
     "output_type": "execute_result"
    }
   ],
   "source": [
    "l1"
   ]
  },
  {
   "cell_type": "code",
   "execution_count": 45,
   "id": "4f39bef0",
   "metadata": {},
   "outputs": [
    {
     "data": {
      "text/plain": [
       "4"
      ]
     },
     "execution_count": 45,
     "metadata": {},
     "output_type": "execute_result"
    }
   ],
   "source": [
    "len(l1)"
   ]
  },
  {
   "cell_type": "code",
   "execution_count": 46,
   "id": "6a5c26b2",
   "metadata": {},
   "outputs": [
    {
     "data": {
      "text/plain": [
       "[0, 1, 2, 3]"
      ]
     },
     "execution_count": 46,
     "metadata": {},
     "output_type": "execute_result"
    }
   ],
   "source": [
    "list(range(len(l1)))"
   ]
  },
  {
   "cell_type": "code",
   "execution_count": 47,
   "id": "f0b7ca31",
   "metadata": {},
   "outputs": [
    {
     "name": "stdout",
     "output_type": "stream",
     "text": [
      "Priyanshu\n",
      "Yadav\n",
      "Ayush\n",
      "Jimmy\n"
     ]
    }
   ],
   "source": [
    "for i in range(len(l1)) :\n",
    "    print(l1[i])"
   ]
  },
  {
   "cell_type": "code",
   "execution_count": 53,
   "id": "e666f74c",
   "metadata": {},
   "outputs": [
    {
     "data": {
      "text/plain": [
       "[3, 2, 1, 0]"
      ]
     },
     "execution_count": 53,
     "metadata": {},
     "output_type": "execute_result"
    }
   ],
   "source": [
    "list(range(len(l1)-1, -1, -1))"
   ]
  },
  {
   "cell_type": "code",
   "execution_count": 56,
   "id": "997b70ae",
   "metadata": {},
   "outputs": [
    {
     "name": "stdout",
     "output_type": "stream",
     "text": [
      "Jimmy\n",
      "Ayush\n",
      "Yadav\n",
      "Priyanshu\n"
     ]
    }
   ],
   "source": [
    "for i in range(len(l1)-1, -1, -1):\n",
    "    print(l1[i])"
   ]
  },
  {
   "cell_type": "code",
   "execution_count": 57,
   "id": "d9f3dd92",
   "metadata": {},
   "outputs": [],
   "source": [
    "l2 = [23, 5, 45, 56, 6, 67, 67, 78, 87, 8998, 8]"
   ]
  },
  {
   "cell_type": "code",
   "execution_count": 59,
   "id": "a0120bfc",
   "metadata": {},
   "outputs": [
    {
     "data": {
      "text/plain": [
       "[0, 2, 4, 6, 8, 10]"
      ]
     },
     "execution_count": 59,
     "metadata": {},
     "output_type": "execute_result"
    }
   ],
   "source": [
    "list(range(0, len(l2), 2))"
   ]
  },
  {
   "cell_type": "code",
   "execution_count": 61,
   "id": "94ab3786",
   "metadata": {},
   "outputs": [
    {
     "name": "stdout",
     "output_type": "stream",
     "text": [
      "23\n",
      "45\n",
      "6\n",
      "67\n",
      "87\n",
      "8\n"
     ]
    }
   ],
   "source": [
    "for i in range(0, len(l2), 2) :\n",
    "    print(l2[i])"
   ]
  },
  {
   "cell_type": "code",
   "execution_count": 63,
   "id": "26fc8fbd",
   "metadata": {},
   "outputs": [],
   "source": [
    "l = [1, 2, 3, 4, 7, 8, 98]"
   ]
  },
  {
   "cell_type": "code",
   "execution_count": 66,
   "id": "0d83f644",
   "metadata": {},
   "outputs": [
    {
     "data": {
      "text/plain": [
       "[1, 2, 3, 4, 7, 8, 98]"
      ]
     },
     "execution_count": 66,
     "metadata": {},
     "output_type": "execute_result"
    }
   ],
   "source": [
    "l"
   ]
  },
  {
   "cell_type": "code",
   "execution_count": 72,
   "id": "27cefd58",
   "metadata": {},
   "outputs": [],
   "source": [
    "sum = 0\n",
    "for i in l :\n",
    "    sum = sum + i\n",
    "    "
   ]
  },
  {
   "cell_type": "code",
   "execution_count": 73,
   "id": "3a18f38b",
   "metadata": {},
   "outputs": [
    {
     "data": {
      "text/plain": [
       "123"
      ]
     },
     "execution_count": 73,
     "metadata": {},
     "output_type": "execute_result"
    }
   ],
   "source": [
    "sum"
   ]
  },
  {
   "cell_type": "code",
   "execution_count": 74,
   "id": "ad5e7db7",
   "metadata": {},
   "outputs": [],
   "source": [
    "s1 = \"RadheRadhe\""
   ]
  },
  {
   "cell_type": "code",
   "execution_count": 75,
   "id": "a3c65e62",
   "metadata": {},
   "outputs": [
    {
     "name": "stdout",
     "output_type": "stream",
     "text": [
      "R\n",
      "a\n",
      "d\n",
      "h\n",
      "e\n",
      "R\n",
      "a\n",
      "d\n",
      "h\n",
      "e\n"
     ]
    }
   ],
   "source": [
    "for i in s1 :\n",
    "    print(i)"
   ]
  },
  {
   "cell_type": "code",
   "execution_count": 77,
   "id": "8b2e0f6b",
   "metadata": {},
   "outputs": [],
   "source": [
    "t = (1, 1, 2, 3, \"Priyanshu\", \"Hi\")"
   ]
  },
  {
   "cell_type": "code",
   "execution_count": 79,
   "id": "6e407a53",
   "metadata": {},
   "outputs": [
    {
     "name": "stdout",
     "output_type": "stream",
     "text": [
      "1\n",
      "1\n",
      "2\n",
      "3\n",
      "Priyanshu\n",
      "Hi\n"
     ]
    }
   ],
   "source": [
    "for i in t :\n",
    "    print(i)"
   ]
  },
  {
   "cell_type": "code",
   "execution_count": 80,
   "id": "3253fdcd",
   "metadata": {},
   "outputs": [],
   "source": [
    "s = {1, 8, 9, \"Priyanshu\", \"Yadav\", \"Machine Learning\", \"Data Science\"}"
   ]
  },
  {
   "cell_type": "code",
   "execution_count": 81,
   "id": "86f8c2ce",
   "metadata": {},
   "outputs": [
    {
     "name": "stdout",
     "output_type": "stream",
     "text": [
      "1\n",
      "Priyanshu\n",
      "Machine Learning\n",
      "Data Science\n",
      "8\n",
      "9\n",
      "Yadav\n"
     ]
    }
   ],
   "source": [
    "for i in s :\n",
    "    print(i)"
   ]
  },
  {
   "cell_type": "code",
   "execution_count": 82,
   "id": "59d6d91c",
   "metadata": {},
   "outputs": [],
   "source": [
    "d = {\"name\" : \"Priyanshu\", \"course\" : \"Data Science\", \"age\" : \"21\"}"
   ]
  },
  {
   "cell_type": "code",
   "execution_count": 85,
   "id": "3d9abbfa",
   "metadata": {},
   "outputs": [
    {
     "data": {
      "text/plain": [
       "dict_items([('name', 'Priyanshu'), ('course', 'Data Science'), ('age', '21')])"
      ]
     },
     "execution_count": 85,
     "metadata": {},
     "output_type": "execute_result"
    }
   ],
   "source": [
    "d.items()"
   ]
  },
  {
   "cell_type": "code",
   "execution_count": 86,
   "id": "84137bbb",
   "metadata": {},
   "outputs": [
    {
     "data": {
      "text/plain": [
       "[('name', 'Priyanshu'), ('course', 'Data Science'), ('age', '21')]"
      ]
     },
     "execution_count": 86,
     "metadata": {},
     "output_type": "execute_result"
    }
   ],
   "source": [
    "list(d.items())"
   ]
  },
  {
   "cell_type": "code",
   "execution_count": 87,
   "id": "5ef227a3",
   "metadata": {},
   "outputs": [
    {
     "data": {
      "text/plain": [
       "dict_keys(['name', 'course', 'age'])"
      ]
     },
     "execution_count": 87,
     "metadata": {},
     "output_type": "execute_result"
    }
   ],
   "source": [
    "d.keys()"
   ]
  },
  {
   "cell_type": "code",
   "execution_count": 88,
   "id": "6049037e",
   "metadata": {},
   "outputs": [
    {
     "name": "stdout",
     "output_type": "stream",
     "text": [
      "Priyanshu\n",
      "Data Science\n",
      "21\n"
     ]
    }
   ],
   "source": [
    "for i in d.keys() :\n",
    "    print(d[i])"
   ]
  },
  {
   "cell_type": "code",
   "execution_count": 89,
   "id": "92818490",
   "metadata": {},
   "outputs": [
    {
     "data": {
      "text/plain": [
       "dict_items([('name', 'Priyanshu'), ('course', 'Data Science'), ('age', '21')])"
      ]
     },
     "execution_count": 89,
     "metadata": {},
     "output_type": "execute_result"
    }
   ],
   "source": [
    "d.items()"
   ]
  },
  {
   "cell_type": "code",
   "execution_count": 90,
   "id": "dbd1af22",
   "metadata": {},
   "outputs": [
    {
     "name": "stdout",
     "output_type": "stream",
     "text": [
      "('name', 'Priyanshu')\n",
      "('course', 'Data Science')\n",
      "('age', '21')\n"
     ]
    }
   ],
   "source": [
    "for i in d.items() :\n",
    "    print(i)"
   ]
  },
  {
   "cell_type": "code",
   "execution_count": 95,
   "id": "a34ec151",
   "metadata": {},
   "outputs": [],
   "source": [
    "name = \"p w s k i l l s\""
   ]
  },
  {
   "cell_type": "code",
   "execution_count": 96,
   "id": "f227be52",
   "metadata": {},
   "outputs": [
    {
     "data": {
      "text/plain": [
       "'p w s k i l l s'"
      ]
     },
     "execution_count": 96,
     "metadata": {},
     "output_type": "execute_result"
    }
   ],
   "source": [
    "\" \".join(name.replace(\" \", \"\"))"
   ]
  },
  {
   "cell_type": "code",
   "execution_count": 100,
   "id": "73380507",
   "metadata": {},
   "outputs": [
    {
     "ename": "TypeError",
     "evalue": "'str' object cannot be interpreted as an integer",
     "output_type": "error",
     "traceback": [
      "\u001b[1;31m---------------------------------------------------------------------------\u001b[0m",
      "\u001b[1;31mTypeError\u001b[0m                                 Traceback (most recent call last)",
      "Cell \u001b[1;32mIn[100], line 1\u001b[0m\n\u001b[1;32m----> 1\u001b[0m \u001b[43mname\u001b[49m\u001b[38;5;241;43m.\u001b[39;49m\u001b[43mrjust\u001b[49m\u001b[43m(\u001b[49m\u001b[38;5;124;43m'\u001b[39;49m\u001b[38;5;124;43mp\u001b[39;49m\u001b[38;5;124;43m'\u001b[39;49m\u001b[43m)\u001b[49m\n",
      "\u001b[1;31mTypeError\u001b[0m: 'str' object cannot be interpreted as an integer"
     ]
    }
   ],
   "source": []
  },
  {
   "cell_type": "code",
   "execution_count": null,
   "id": "d40cd826",
   "metadata": {},
   "outputs": [],
   "source": []
  }
 ],
 "metadata": {
  "kernelspec": {
   "display_name": "Python 3 (ipykernel)",
   "language": "python",
   "name": "python3"
  },
  "language_info": {
   "codemirror_mode": {
    "name": "ipython",
    "version": 3
   },
   "file_extension": ".py",
   "mimetype": "text/x-python",
   "name": "python",
   "nbconvert_exporter": "python",
   "pygments_lexer": "ipython3",
   "version": "3.10.9"
  }
 },
 "nbformat": 4,
 "nbformat_minor": 5
}
