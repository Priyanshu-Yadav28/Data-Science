{
 "cells": [
  {
   "cell_type": "code",
   "execution_count": 3,
   "id": "7833bde8",
   "metadata": {},
   "outputs": [
    {
     "data": {
      "text/plain": [
       "range(1, 25)"
      ]
     },
     "execution_count": 3,
     "metadata": {},
     "output_type": "execute_result"
    }
   ],
   "source": [
    "# Q1. Which keyword is used to create a function? Create a function to return a list of odd numbers in the\n",
    "# range of 1 to 25.\n",
    "\n",
    "# ans\n",
    "# The keyword which is used to create a function is def \n",
    "range(1, 25)\n"
   ]
  },
  {
   "cell_type": "code",
   "execution_count": 9,
   "id": "9e247ae7",
   "metadata": {},
   "outputs": [],
   "source": [
    "def oddNumbers() :\n",
    "    l = []\n",
    "    for i in range(1, 26) : \n",
    "        if i % 2 == 0 :\n",
    "            l.append(i)\n",
    "    return l\n",
    "        \n",
    "    "
   ]
  },
  {
   "cell_type": "code",
   "execution_count": 10,
   "id": "b81c1d86",
   "metadata": {},
   "outputs": [
    {
     "data": {
      "text/plain": [
       "[2, 4, 6, 8, 10, 12, 14, 16, 18, 20, 22, 24]"
      ]
     },
     "execution_count": 10,
     "metadata": {},
     "output_type": "execute_result"
    }
   ],
   "source": [
    "oddNumbers()"
   ]
  },
  {
   "cell_type": "code",
   "execution_count": 13,
   "id": "37309bb8",
   "metadata": {},
   "outputs": [
    {
     "data": {
      "text/plain": [
       "(2, 1, 3, 'priyanshu', 'yadav', 'RaoSahab', [1, 2, 3, 4, 5])"
      ]
     },
     "execution_count": 13,
     "metadata": {},
     "output_type": "execute_result"
    }
   ],
   "source": [
    "# Q2. Why *args and **kwargs is used in some functions? Create a function each for *args and **kwargs\n",
    "# to demonstrate their use.\n",
    "\n",
    "# ans\n",
    "# *args is used as in the place of parameter in the function to dynamically create the arguments \n",
    "def test11(*args) :\n",
    "    return args\n",
    "test11(2, 1, 3, \"priyanshu\", \"yadav\", \"RaoSahab\", [1, 2, 3, 4, 5])"
   ]
  },
  {
   "cell_type": "code",
   "execution_count": 14,
   "id": "8d1885a2",
   "metadata": {},
   "outputs": [
    {
     "data": {
      "text/plain": [
       "(2, 1, 3, 'priyanshu', 'yadav', 'RaoSahab', [1, 2, 3, 4, 5])"
      ]
     },
     "execution_count": 14,
     "metadata": {},
     "output_type": "execute_result"
    }
   ],
   "source": [
    "# **kwargs is a special syntax used in function definitions to allow the passing of a variable number of keyword arguments. \n",
    "# The term \"kwargs\" stands for keyword arguments.\n",
    "def test11(*args) :\n",
    "    return args\n",
    "test11(2, 1, 3, \"priyanshu\", \"yadav\", \"RaoSahab\", [1, 2, 3, 4, 5])"
   ]
  },
  {
   "cell_type": "code",
   "execution_count": 1,
   "id": "ee093f7b",
   "metadata": {},
   "outputs": [],
   "source": [
    "# Q3. What is an iterator in python? Name the method used to initialise the iterator object and the method\n",
    "# used for iteration. Use these methods to print the first five elements of the given list [2, 4, 6, 8, 10, 12, 14,\n",
    "# 16, 18, 20]."
   ]
  },
  {
   "cell_type": "code",
   "execution_count": null,
   "id": "342b4fd6",
   "metadata": {},
   "outputs": [],
   "source": []
  }
 ],
 "metadata": {
  "kernelspec": {
   "display_name": "Python 3 (ipykernel)",
   "language": "python",
   "name": "python3"
  },
  "language_info": {
   "codemirror_mode": {
    "name": "ipython",
    "version": 3
   },
   "file_extension": ".py",
   "mimetype": "text/x-python",
   "name": "python",
   "nbconvert_exporter": "python",
   "pygments_lexer": "ipython3",
   "version": "3.10.9"
  }
 },
 "nbformat": 4,
 "nbformat_minor": 5
}
