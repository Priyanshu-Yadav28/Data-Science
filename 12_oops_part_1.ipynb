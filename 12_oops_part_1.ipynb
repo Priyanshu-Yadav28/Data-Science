{
 "cells": [
  {
   "cell_type": "code",
   "execution_count": 132,
   "id": "9e99a160",
   "metadata": {},
   "outputs": [],
   "source": [
    "# oops -> object oriented programming System "
   ]
  },
  {
   "cell_type": "code",
   "execution_count": 133,
   "id": "83780ef0",
   "metadata": {},
   "outputs": [],
   "source": [
    "a = 1"
   ]
  },
  {
   "cell_type": "code",
   "execution_count": 134,
   "id": "30ec2290",
   "metadata": {},
   "outputs": [
    {
     "name": "stdout",
     "output_type": "stream",
     "text": [
      "1\n"
     ]
    }
   ],
   "source": [
    "print(a)"
   ]
  },
  {
   "cell_type": "code",
   "execution_count": 135,
   "id": "956b4bb7",
   "metadata": {},
   "outputs": [
    {
     "name": "stdout",
     "output_type": "stream",
     "text": [
      "<class 'int'>\n"
     ]
    }
   ],
   "source": [
    "print(type(a))"
   ]
  },
  {
   "cell_type": "code",
   "execution_count": 136,
   "id": "e5a22868",
   "metadata": {},
   "outputs": [
    {
     "name": "stdout",
     "output_type": "stream",
     "text": [
      "<class 'str'>\n"
     ]
    }
   ],
   "source": [
    "print(type(\"Priyanshu\"))"
   ]
  },
  {
   "cell_type": "code",
   "execution_count": 137,
   "id": "509f32cf",
   "metadata": {},
   "outputs": [],
   "source": [
    "# creating a class in python\n",
    "class test : \n",
    "    pass\n",
    "# empty class"
   ]
  },
  {
   "cell_type": "code",
   "execution_count": 138,
   "id": "f112c92b",
   "metadata": {},
   "outputs": [],
   "source": [
    "a = test()"
   ]
  },
  {
   "cell_type": "code",
   "execution_count": 139,
   "id": "ae874c68",
   "metadata": {},
   "outputs": [
    {
     "name": "stdout",
     "output_type": "stream",
     "text": [
      "<class '__main__.test'>\n"
     ]
    }
   ],
   "source": [
    "print(type(a))"
   ]
  },
  {
   "cell_type": "code",
   "execution_count": 140,
   "id": "01370cef",
   "metadata": {},
   "outputs": [],
   "source": [
    "class pwskills :\n",
    "    def welcome_msg(self) :\n",
    "        print(name,\"Welcome to pwskills\")"
   ]
  },
  {
   "cell_type": "code",
   "execution_count": 141,
   "id": "8afe08f1",
   "metadata": {},
   "outputs": [],
   "source": [
    "rohan = pwskills()\n",
    "# object of class pwskills"
   ]
  },
  {
   "cell_type": "code",
   "execution_count": 142,
   "id": "7244bed9",
   "metadata": {},
   "outputs": [
    {
     "name": "stdout",
     "output_type": "stream",
     "text": [
      "<class '__main__.pwskills'>\n"
     ]
    }
   ],
   "source": [
    "print(type(rohan))"
   ]
  },
  {
   "cell_type": "code",
   "execution_count": 143,
   "id": "51ab56fd",
   "metadata": {},
   "outputs": [
    {
     "name": "stdout",
     "output_type": "stream",
     "text": [
      "<__main__.pwskills object at 0x00000295A77CE1A0> Welcome to pwskills\n"
     ]
    }
   ],
   "source": [
    "rohan.welcome_msg()"
   ]
  },
  {
   "cell_type": "code",
   "execution_count": 148,
   "id": "f0d8a0d2",
   "metadata": {},
   "outputs": [],
   "source": [
    "gaurav = pwskills()"
   ]
  },
  {
   "cell_type": "code",
   "execution_count": 149,
   "id": "90178137",
   "metadata": {},
   "outputs": [
    {
     "name": "stdout",
     "output_type": "stream",
     "text": [
      "<__main__.pwskills object at 0x00000295A77CE1A0> Welcome to pwskills\n"
     ]
    }
   ],
   "source": [
    "gaurav.welcome_msg()"
   ]
  },
  {
   "cell_type": "code",
   "execution_count": 150,
   "id": "440389bf",
   "metadata": {},
   "outputs": [],
   "source": [
    "class pwskills1 :\n",
    "    \n",
    "    def __init__(self ,phone_number, email_id, student_id):\n",
    "        self.phone_number = phone_number\n",
    "        self.email_id = email_id\n",
    "        self.student_id = student_id\n",
    "    \n",
    "    def return_student_details(self) :\n",
    "        return self.phone_number, self.email_id  , self.student_id   \n",
    "        "
   ]
  },
  {
   "cell_type": "code",
   "execution_count": 151,
   "id": "8cd15371",
   "metadata": {},
   "outputs": [],
   "source": [
    "# aman = pwskills1() error sice no argument are provided"
   ]
  },
  {
   "cell_type": "code",
   "execution_count": 152,
   "id": "2aaf3a71",
   "metadata": {},
   "outputs": [],
   "source": [
    "rohan = pwskills1(982641230, \"email.@gmail.com\", 1)"
   ]
  },
  {
   "cell_type": "code",
   "execution_count": 153,
   "id": "7f4f42b1",
   "metadata": {},
   "outputs": [
    {
     "data": {
      "text/plain": [
       "(982641230, 'email.@gmail.com', 1)"
      ]
     },
     "execution_count": 153,
     "metadata": {},
     "output_type": "execute_result"
    }
   ],
   "source": [
    "rohan.return_student_details()"
   ]
  },
  {
   "cell_type": "code",
   "execution_count": 154,
   "id": "37f8b054",
   "metadata": {},
   "outputs": [],
   "source": [
    "gaurav = pwskills1(19833, \"gaurav@gmail.com\", 102)"
   ]
  },
  {
   "cell_type": "code",
   "execution_count": 155,
   "id": "0ba00985",
   "metadata": {},
   "outputs": [
    {
     "data": {
      "text/plain": [
       "<bound method pwskills1.return_student_details of <__main__.pwskills1 object at 0x00000295A8DB7310>>"
      ]
     },
     "execution_count": 155,
     "metadata": {},
     "output_type": "execute_result"
    }
   ],
   "source": [
    "gaurav.return_student_details"
   ]
  },
  {
   "cell_type": "code",
   "execution_count": 160,
   "id": "667adda6",
   "metadata": {},
   "outputs": [],
   "source": [
    "class pwskills2 :\n",
    "    \n",
    "    def __init__(self ,phone_number, email_id, student_id):\n",
    "        self.phone_number1 = phone_number\n",
    "        self.email_id1 = email_id\n",
    "        self.student_id1 = student_id\n",
    "    \n",
    "    def return_student_details(self) :\n",
    "        return self.student_id1 , self.phone_number1 , self.email_id1"
   ]
  },
  {
   "cell_type": "code",
   "execution_count": 161,
   "id": "b2a13136",
   "metadata": {},
   "outputs": [],
   "source": [
    "sudh = pwskills2(9999187178, \"sudh92@gmail.com\", 103)"
   ]
  },
  {
   "cell_type": "code",
   "execution_count": 162,
   "id": "1c5f266f",
   "metadata": {},
   "outputs": [
    {
     "data": {
      "text/plain": [
       "<__main__.pwskills2 at 0x295a8db69b0>"
      ]
     },
     "execution_count": 162,
     "metadata": {},
     "output_type": "execute_result"
    }
   ],
   "source": [
    "sudh"
   ]
  },
  {
   "cell_type": "code",
   "execution_count": 170,
   "id": "142df14f",
   "metadata": {},
   "outputs": [
    {
     "data": {
      "text/plain": [
       "(103, 9999187178, 'sudh92@gmail.com')"
      ]
     },
     "execution_count": 170,
     "metadata": {},
     "output_type": "execute_result"
    }
   ],
   "source": [
    "sudh.return_student_details()"
   ]
  },
  {
   "cell_type": "code",
   "execution_count": 171,
   "id": "9d7cfd80",
   "metadata": {},
   "outputs": [
    {
     "data": {
      "text/plain": [
       "'sudh92@gmail.com'"
      ]
     },
     "execution_count": 171,
     "metadata": {},
     "output_type": "execute_result"
    }
   ],
   "source": [
    "sudh.email_id1"
   ]
  },
  {
   "cell_type": "code",
   "execution_count": 178,
   "id": "8ed3c6d8",
   "metadata": {},
   "outputs": [],
   "source": [
    "# replacing self by sudh everywhere, hence self is not a reserved keyword in class so anything\n",
    "# can be used on place of it \n",
    "class pwskills3 :\n",
    "    \n",
    "    def __init__(sudh ,phone_number, email_id, student_id):\n",
    "        sudh.phone_number1 = phone_number\n",
    "        sudh.email_id1 = email_id\n",
    "        sudh.student_id1 = student_id\n",
    "    \n",
    "    def return_student_details(sudh) :\n",
    "        return sudh.student_id1 , sudh.phone_number1 , sudh.email_id1"
   ]
  },
  {
   "cell_type": "code",
   "execution_count": 179,
   "id": "8138825a",
   "metadata": {},
   "outputs": [],
   "source": [
    "priyanshu = pwskills3(9843434221, \"priynahu@gmail.com\", 2)"
   ]
  },
  {
   "cell_type": "code",
   "execution_count": 180,
   "id": "403fbf16",
   "metadata": {},
   "outputs": [
    {
     "data": {
      "text/plain": [
       "(2, 9843434221, 'priynahu@gmail.com')"
      ]
     },
     "execution_count": 180,
     "metadata": {},
     "output_type": "execute_result"
    }
   ],
   "source": [
    "priyanshu.return_student_details()"
   ]
  },
  {
   "cell_type": "code",
   "execution_count": null,
   "id": "a5e546ff",
   "metadata": {},
   "outputs": [],
   "source": []
  }
 ],
 "metadata": {
  "kernelspec": {
   "display_name": "Python 3 (ipykernel)",
   "language": "python",
   "name": "python3"
  },
  "language_info": {
   "codemirror_mode": {
    "name": "ipython",
    "version": 3
   },
   "file_extension": ".py",
   "mimetype": "text/x-python",
   "name": "python",
   "nbconvert_exporter": "python",
   "pygments_lexer": "ipython3",
   "version": "3.10.9"
  }
 },
 "nbformat": 4,
 "nbformat_minor": 5
}
