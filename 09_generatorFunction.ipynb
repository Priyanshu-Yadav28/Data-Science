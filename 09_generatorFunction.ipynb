{
 "cells": [
  {
   "cell_type": "code",
   "execution_count": 1,
   "id": "05031beb-a068-4e09-bdd9-1cd7b21f9ed9",
   "metadata": {},
   "outputs": [],
   "source": [
    "# lecture 9 generator functoin in python "
   ]
  },
  {
   "cell_type": "code",
   "execution_count": 2,
   "id": "7f9fe667-fec4-4f4c-8787-1c4e3a8fdbba",
   "metadata": {},
   "outputs": [
    {
     "data": {
      "text/plain": [
       "range(0, 10)"
      ]
     },
     "execution_count": 2,
     "metadata": {},
     "output_type": "execute_result"
    }
   ],
   "source": [
    "range(0, 10)"
   ]
  },
  {
   "cell_type": "code",
   "execution_count": 3,
   "id": "33f8472e-d175-41e8-a936-e0eb94392806",
   "metadata": {},
   "outputs": [
    {
     "name": "stdout",
     "output_type": "stream",
     "text": [
      "0\n",
      "1\n",
      "2\n",
      "3\n",
      "4\n",
      "5\n",
      "6\n",
      "7\n",
      "8\n",
      "9\n"
     ]
    }
   ],
   "source": [
    "for i in range(10) :\n",
    "    print(i)"
   ]
  },
  {
   "cell_type": "code",
   "execution_count": 4,
   "id": "d5fc75d9-1fd9-461b-8040-f17ad46c5f0f",
   "metadata": {},
   "outputs": [],
   "source": [
    "def test_fibo(n) :\n",
    "    a, b = 0, 1\n",
    "    for i in range(n) :\n",
    "        yield a\n",
    "        a, b = b, a + b\n",
    "        "
   ]
  },
  {
   "cell_type": "code",
   "execution_count": 5,
   "id": "2ded583a-7921-45d2-973c-4d91ec5c26bc",
   "metadata": {},
   "outputs": [
    {
     "name": "stdout",
     "output_type": "stream",
     "text": [
      "0\n",
      "1\n",
      "1\n",
      "2\n",
      "3\n",
      "5\n",
      "8\n",
      "13\n",
      "21\n",
      "34\n"
     ]
    }
   ],
   "source": [
    "for i in test_fibo(10) :\n",
    "    print(i)"
   ]
  },
  {
   "cell_type": "code",
   "execution_count": 6,
   "id": "6d922286-4503-4f78-a5cd-a803eaba12f1",
   "metadata": {},
   "outputs": [],
   "source": [
    "s = \"sudh\""
   ]
  },
  {
   "cell_type": "code",
   "execution_count": 7,
   "id": "01426cf6-ad0c-4f1e-9e3d-b3007fb141af",
   "metadata": {},
   "outputs": [],
   "source": [
    "def test_fib2():\n",
    "    a, b = 0, 1\n",
    "    while True :\n",
    "        yield a\n",
    "        a, b = b, a + b\n",
    "    "
   ]
  },
  {
   "cell_type": "code",
   "execution_count": 8,
   "id": "4375e339-356d-47ce-b776-f94de9b18568",
   "metadata": {},
   "outputs": [
    {
     "ename": "TypeError",
     "evalue": "test_fib2() takes 0 positional arguments but 1 was given",
     "output_type": "error",
     "traceback": [
      "\u001b[1;31m---------------------------------------------------------------------------\u001b[0m",
      "\u001b[1;31mTypeError\u001b[0m                                 Traceback (most recent call last)",
      "Cell \u001b[1;32mIn[8], line 1\u001b[0m\n\u001b[1;32m----> 1\u001b[0m fib \u001b[38;5;241m=\u001b[39m \u001b[43mtest_fib2\u001b[49m\u001b[43m(\u001b[49m\u001b[38;5;241;43m10\u001b[39;49m\u001b[43m)\u001b[49m\n",
      "\u001b[1;31mTypeError\u001b[0m: test_fib2() takes 0 positional arguments but 1 was given"
     ]
    }
   ],
   "source": [
    "fib = test_fib2(10)"
   ]
  },
  {
   "cell_type": "code",
   "execution_count": null,
   "id": "457b330b-79b3-4bc3-809e-f5c339867f9e",
   "metadata": {},
   "outputs": [],
   "source": [
    "for i in range(10):\n",
    "    print(next(fib))"
   ]
  },
  {
   "cell_type": "code",
   "execution_count": null,
   "id": "b520bdab-c847-4947-9405-de97caf034d9",
   "metadata": {},
   "outputs": [],
   "source": [
    "s = \"sudh\""
   ]
  },
  {
   "cell_type": "code",
   "execution_count": 9,
   "id": "5032ba17-c881-42b0-b008-92766da21367",
   "metadata": {},
   "outputs": [
    {
     "ename": "NameError",
     "evalue": "name 'fib' is not defined",
     "output_type": "error",
     "traceback": [
      "\u001b[1;31m---------------------------------------------------------------------------\u001b[0m",
      "\u001b[1;31mNameError\u001b[0m                                 Traceback (most recent call last)",
      "Cell \u001b[1;32mIn[9], line 1\u001b[0m\n\u001b[1;32m----> 1\u001b[0m \u001b[38;5;28mtype\u001b[39m(\u001b[43mfib\u001b[49m)\n",
      "\u001b[1;31mNameError\u001b[0m: name 'fib' is not defined"
     ]
    }
   ],
   "source": [
    "type(fib)"
   ]
  },
  {
   "cell_type": "code",
   "execution_count": 10,
   "id": "a25d08f9-f241-4893-a19b-4d317a556fea",
   "metadata": {},
   "outputs": [
    {
     "name": "stdout",
     "output_type": "stream",
     "text": [
      "s\n",
      "u\n",
      "d\n",
      "h\n"
     ]
    }
   ],
   "source": [
    "for i in s :\n",
    "    print(i)"
   ]
  },
  {
   "cell_type": "code",
   "execution_count": 11,
   "id": "a8fa917c-cc71-4906-9874-504ad1edbb09",
   "metadata": {},
   "outputs": [],
   "source": [
    "# next(s)\n",
    "# This would throw and error "
   ]
  },
  {
   "cell_type": "code",
   "execution_count": 12,
   "id": "c9e4a3ca-bace-4586-bce6-8fa8fe7bae24",
   "metadata": {},
   "outputs": [],
   "source": [
    "s1 = iter(s)"
   ]
  },
  {
   "cell_type": "code",
   "execution_count": 13,
   "id": "63a6055f-f455-42c2-96d6-cf2f41a7cfc8",
   "metadata": {},
   "outputs": [
    {
     "data": {
      "text/plain": [
       "'s'"
      ]
     },
     "execution_count": 13,
     "metadata": {},
     "output_type": "execute_result"
    }
   ],
   "source": [
    "next(s1)"
   ]
  },
  {
   "cell_type": "code",
   "execution_count": 14,
   "id": "b8949c4a-3a44-423f-943d-3c735ec1e2e5",
   "metadata": {},
   "outputs": [
    {
     "data": {
      "text/plain": [
       "'u'"
      ]
     },
     "execution_count": 14,
     "metadata": {},
     "output_type": "execute_result"
    }
   ],
   "source": [
    "next(s1)"
   ]
  },
  {
   "cell_type": "code",
   "execution_count": 15,
   "id": "52cd9a66-f4b3-4110-a787-e5a3de045a2a",
   "metadata": {},
   "outputs": [
    {
     "data": {
      "text/plain": [
       "'d'"
      ]
     },
     "execution_count": 15,
     "metadata": {},
     "output_type": "execute_result"
    }
   ],
   "source": [
    "next(s1)"
   ]
  },
  {
   "cell_type": "code",
   "execution_count": 16,
   "id": "4ae07186-9fba-42a9-a977-cdb5aba9bf12",
   "metadata": {},
   "outputs": [
    {
     "data": {
      "text/plain": [
       "'h'"
      ]
     },
     "execution_count": 16,
     "metadata": {},
     "output_type": "execute_result"
    }
   ],
   "source": [
    "next(s1)"
   ]
  },
  {
   "cell_type": "code",
   "execution_count": 17,
   "id": "3101297f-4e2b-4fc3-99a7-f2eff4bd83dc",
   "metadata": {},
   "outputs": [
    {
     "data": {
      "text/plain": [
       "str_iterator"
      ]
     },
     "execution_count": 17,
     "metadata": {},
     "output_type": "execute_result"
    }
   ],
   "source": [
    " type(s1)"
   ]
  },
  {
   "cell_type": "code",
   "execution_count": 18,
   "id": "63abe780-c4e3-492b-b366-960a36b41241",
   "metadata": {},
   "outputs": [],
   "source": [
    "# Note\n",
    "# Generator Function :- This function is implemented through yield keyword , it do not\n",
    "# gives the result stored somewhere unlike normal function the value in memory instead directly \n",
    "# generates the result everytime it is called \n",
    "\n",
    "# Iterable :- those data which can be changed into interator \n",
    "# Iterator :- A data from which next vales can be obtained with next() method "
   ]
  },
  {
   "cell_type": "code",
   "execution_count": 19,
   "id": "e9a4f4ce-e343-4a0f-ac5f-c904c0faadd3",
   "metadata": {},
   "outputs": [],
   "source": [
    "def count_test(n):\n",
    "    count = 1\n",
    "    while count < n :\n",
    "        yield count\n",
    "        count = count + 1\n",
    "        "
   ]
  },
  {
   "cell_type": "code",
   "execution_count": 20,
   "id": "9f17bf6a-2429-46e2-b6cd-f5c1c8bdc816",
   "metadata": {},
   "outputs": [],
   "source": [
    "c = count_test(5)"
   ]
  },
  {
   "cell_type": "code",
   "execution_count": 21,
   "id": "470513c2-b51d-4513-b9c0-07b376e6f143",
   "metadata": {},
   "outputs": [
    {
     "name": "stdout",
     "output_type": "stream",
     "text": [
      "1\n",
      "2\n",
      "3\n",
      "4\n"
     ]
    }
   ],
   "source": [
    "for i in c :\n",
    "    print(i)"
   ]
  },
  {
   "cell_type": "code",
   "execution_count": 22,
   "id": "a070f1e3-a2c7-4081-bc83-a53c3ea2dec3",
   "metadata": {},
   "outputs": [
    {
     "data": {
      "text/plain": [
       "generator"
      ]
     },
     "execution_count": 22,
     "metadata": {},
     "output_type": "execute_result"
    }
   ],
   "source": [
    "type(c)"
   ]
  },
  {
   "cell_type": "code",
   "execution_count": null,
   "id": "fdff2f22-6e39-40ef-bb1f-b734dc97c665",
   "metadata": {},
   "outputs": [],
   "source": []
  },
  {
   "cell_type": "code",
   "execution_count": null,
   "id": "ff69e8e3",
   "metadata": {},
   "outputs": [],
   "source": []
  }
 ],
 "metadata": {
  "kernelspec": {
   "display_name": "Python 3 (ipykernel)",
   "language": "python",
   "name": "python3"
  },
  "language_info": {
   "codemirror_mode": {
    "name": "ipython",
    "version": 3
   },
   "file_extension": ".py",
   "mimetype": "text/x-python",
   "name": "python",
   "nbconvert_exporter": "python",
   "pygments_lexer": "ipython3",
   "version": "3.10.9"
  }
 },
 "nbformat": 4,
 "nbformat_minor": 5
}
