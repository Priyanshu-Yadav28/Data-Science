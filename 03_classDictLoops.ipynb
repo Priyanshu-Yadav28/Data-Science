{
 "cells": [
  {
   "cell_type": "code",
   "execution_count": 4,
   "id": "08aa3243",
   "metadata": {},
   "outputs": [],
   "source": [
    "# Class Dictonary and Loops in python "
   ]
  },
  {
   "cell_type": "code",
   "execution_count": 7,
   "id": "9e3dcc62",
   "metadata": {},
   "outputs": [],
   "source": [
    "# there is another kind of data type or data structre in python in which we can store data it is known as dictionary.\n",
    "# just like in a normal dictionary we first find the word then its meaning the same follows in\n",
    "# pythn dictionary which stores the data in key value pair "
   ]
  },
  {
   "cell_type": "code",
   "execution_count": 14,
   "id": "88e09a1e",
   "metadata": {},
   "outputs": [],
   "source": [
    "d = {} "
   ]
  },
  {
   "cell_type": "code",
   "execution_count": 15,
   "id": "64437499",
   "metadata": {},
   "outputs": [
    {
     "data": {
      "text/plain": [
       "dict"
      ]
     },
     "execution_count": 15,
     "metadata": {},
     "output_type": "execute_result"
    }
   ],
   "source": [
    "# if we will check the type(d) by default it is dict but when we store the data in key value pair then it \n",
    "# reads it as dictionary else if the data is in linear form or without key value pair it reads it as a set. \n",
    "type(d)"
   ]
  },
  {
   "cell_type": "code",
   "execution_count": 20,
   "id": "7d7cf0cf",
   "metadata": {},
   "outputs": [],
   "source": [
    "d1 =  {'key' : \"sudh\"}"
   ]
  },
  {
   "cell_type": "code",
   "execution_count": 21,
   "id": "c8a84224",
   "metadata": {},
   "outputs": [
    {
     "data": {
      "text/plain": [
       "{'key': 'sudh'}"
      ]
     },
     "execution_count": 21,
     "metadata": {},
     "output_type": "execute_result"
    }
   ],
   "source": [
    "d1"
   ]
  },
  {
   "cell_type": "code",
   "execution_count": 22,
   "id": "1e9357d8",
   "metadata": {},
   "outputs": [],
   "source": [
    "d2 = {'name' : \"Priyanshu\", 'email' : \"priyanshuyadav28027@gmail.com\", 'gender' : \"Mail\", 'age': '21'}"
   ]
  },
  {
   "cell_type": "code",
   "execution_count": 25,
   "id": "60d0b3ef",
   "metadata": {},
   "outputs": [
    {
     "data": {
      "text/plain": [
       "{'name': 'Priyanshu',\n",
       " 'email': 'priyanshuyadav28027@gmail.com',\n",
       " 'gender': 'Mail',\n",
       " 'age': '21'}"
      ]
     },
     "execution_count": 25,
     "metadata": {},
     "output_type": "execute_result"
    }
   ],
   "source": [
    "d2"
   ]
  },
  {
   "cell_type": "code",
   "execution_count": 40,
   "id": "fb443a2e",
   "metadata": {},
   "outputs": [],
   "source": [
    "d3 = {11 : \"Priyanshu\", \"-wer\" : \"gmail.com\", True : 24214} \n",
    "# key can contain all the values numberic or string and not special case character \n",
    "#key should be unique in a dictonary other wise python will update the similar key"
   ]
  },
  {
   "cell_type": "code",
   "execution_count": 43,
   "id": "9a77cdf7",
   "metadata": {},
   "outputs": [
    {
     "data": {
      "text/plain": [
       "'Priyanshu'"
      ]
     },
     "execution_count": 43,
     "metadata": {},
     "output_type": "execute_result"
    }
   ],
   "source": [
    "d3[11]"
   ]
  },
  {
   "cell_type": "code",
   "execution_count": 46,
   "id": "45dfc050",
   "metadata": {},
   "outputs": [
    {
     "data": {
      "text/plain": [
       "24214"
      ]
     },
     "execution_count": 46,
     "metadata": {},
     "output_type": "execute_result"
    }
   ],
   "source": [
    "d3[1]"
   ]
  },
  {
   "cell_type": "code",
   "execution_count": 49,
   "id": "aed4bd09",
   "metadata": {},
   "outputs": [],
   "source": [
    "d4 = {'name' : \"Priyanshu\", 'mail_id' : \"py@gmail.com\", 'name' : \"Yadav\"}\n",
    "#key should always be unique else the updated value will be assigned with the key "
   ]
  },
  {
   "cell_type": "code",
   "execution_count": 50,
   "id": "b9cf9d3c",
   "metadata": {},
   "outputs": [
    {
     "data": {
      "text/plain": [
       "{'name': 'Yadav', 'mail_id': 'py@gmail.com'}"
      ]
     },
     "execution_count": 50,
     "metadata": {},
     "output_type": "execute_result"
    }
   ],
   "source": [
    "d4"
   ]
  },
  {
   "cell_type": "code",
   "execution_count": 51,
   "id": "17d5e221",
   "metadata": {},
   "outputs": [],
   "source": [
    "d5 = {\"company\" : \"pwskills\", \"courses\" :[\"web Dev\", \"Data Science\", \"Java with DSA\"]}\n",
    "# we can keep list as a value in dictionary"
   ]
  },
  {
   "cell_type": "code",
   "execution_count": 52,
   "id": "639040c4",
   "metadata": {},
   "outputs": [
    {
     "data": {
      "text/plain": [
       "{'company': 'pwskills',\n",
       " 'courses': ['web Dev', 'Data Science', 'Java with DSA']}"
      ]
     },
     "execution_count": 52,
     "metadata": {},
     "output_type": "execute_result"
    }
   ],
   "source": [
    "d5"
   ]
  },
  {
   "cell_type": "code",
   "execution_count": 54,
   "id": "d084572b",
   "metadata": {},
   "outputs": [
    {
     "data": {
      "text/plain": [
       "'Java with DSA'"
      ]
     },
     "execution_count": 54,
     "metadata": {},
     "output_type": "execute_result"
    }
   ],
   "source": [
    "d5[\"courses\"][2]"
   ]
  },
  {
   "cell_type": "code",
   "execution_count": 59,
   "id": "e57321b3",
   "metadata": {},
   "outputs": [],
   "source": [
    "d6 = {\"number\" : [12, 34, 3, 34343, 12], \"assingments\" : (1,2, 3, 42,8), \"launch_Date\" : {23, 1, 18}, \"classTiming\" :{\"web dev\" : \"8 :00\", \"DS\" : \"9:00\", \"Java\" : \"10 :00\"}}"
   ]
  },
  {
   "cell_type": "code",
   "execution_count": 60,
   "id": "2db82a0a",
   "metadata": {},
   "outputs": [
    {
     "data": {
      "text/plain": [
       "{'number': [12, 34, 3, 34343, 12],\n",
       " 'assingments': (1, 2, 3, 42, 8),\n",
       " 'launch_Date': {1, 18, 23},\n",
       " 'classTiming': {'web dev': '8 :00', 'DS': '9:00', 'Java': '10 :00'}}"
      ]
     },
     "execution_count": 60,
     "metadata": {},
     "output_type": "execute_result"
    }
   ],
   "source": [
    "d6"
   ]
  },
  {
   "cell_type": "code",
   "execution_count": 63,
   "id": "1528d1ae",
   "metadata": {},
   "outputs": [
    {
     "data": {
      "text/plain": [
       "'10 :00'"
      ]
     },
     "execution_count": 63,
     "metadata": {},
     "output_type": "execute_result"
    }
   ],
   "source": [
    "d6[\"classTiming\"][\"Java\"]"
   ]
  },
  {
   "cell_type": "code",
   "execution_count": 64,
   "id": "1e409262",
   "metadata": {},
   "outputs": [
    {
     "data": {
      "text/plain": [
       "{'number': [12, 34, 3, 34343, 12],\n",
       " 'assingments': (1, 2, 3, 42, 8),\n",
       " 'launch_Date': {1, 18, 23},\n",
       " 'classTiming': {'web dev': '8 :00', 'DS': '9:00', 'Java': '10 :00'}}"
      ]
     },
     "execution_count": 64,
     "metadata": {},
     "output_type": "execute_result"
    }
   ],
   "source": [
    "d6"
   ]
  },
  {
   "cell_type": "code",
   "execution_count": 65,
   "id": "a3a7db19",
   "metadata": {},
   "outputs": [],
   "source": [
    "d6['mentor'] = [\"sudhanshu\", \"krish\", \"anurag\", \"haydar\"]"
   ]
  },
  {
   "cell_type": "code",
   "execution_count": 66,
   "id": "5306578a",
   "metadata": {},
   "outputs": [
    {
     "data": {
      "text/plain": [
       "{'number': [12, 34, 3, 34343, 12],\n",
       " 'assingments': (1, 2, 3, 42, 8),\n",
       " 'launch_Date': {1, 18, 23},\n",
       " 'classTiming': {'web dev': '8 :00', 'DS': '9:00', 'Java': '10 :00'},\n",
       " 'mentor': ['sudhanshu', 'krish', 'anurag', 'haydar']}"
      ]
     },
     "execution_count": 66,
     "metadata": {},
     "output_type": "execute_result"
    }
   ],
   "source": [
    "d6"
   ]
  },
  {
   "cell_type": "code",
   "execution_count": 67,
   "id": "a7c0a188",
   "metadata": {},
   "outputs": [],
   "source": [
    "d6['number'] = [1]"
   ]
  },
  {
   "cell_type": "code",
   "execution_count": 68,
   "id": "9a6efdc6",
   "metadata": {},
   "outputs": [
    {
     "data": {
      "text/plain": [
       "{'number': [1],\n",
       " 'assingments': (1, 2, 3, 42, 8),\n",
       " 'launch_Date': {1, 18, 23},\n",
       " 'classTiming': {'web dev': '8 :00', 'DS': '9:00', 'Java': '10 :00'},\n",
       " 'mentor': ['sudhanshu', 'krish', 'anurag', 'haydar']}"
      ]
     },
     "execution_count": 68,
     "metadata": {},
     "output_type": "execute_result"
    }
   ],
   "source": [
    "d6"
   ]
  },
  {
   "cell_type": "code",
   "execution_count": 69,
   "id": "9ee4ffbd",
   "metadata": {},
   "outputs": [],
   "source": [
    "del d6['number']"
   ]
  },
  {
   "cell_type": "code",
   "execution_count": 70,
   "id": "dac9db2a",
   "metadata": {},
   "outputs": [
    {
     "data": {
      "text/plain": [
       "{'assingments': (1, 2, 3, 42, 8),\n",
       " 'launch_Date': {1, 18, 23},\n",
       " 'classTiming': {'web dev': '8 :00', 'DS': '9:00', 'Java': '10 :00'},\n",
       " 'mentor': ['sudhanshu', 'krish', 'anurag', 'haydar']}"
      ]
     },
     "execution_count": 70,
     "metadata": {},
     "output_type": "execute_result"
    }
   ],
   "source": [
    "d6"
   ]
  },
  {
   "cell_type": "code",
   "execution_count": 75,
   "id": "8b515eff",
   "metadata": {},
   "outputs": [
    {
     "data": {
      "text/plain": [
       "['assingments', 'launch_Date', 'classTiming', 'mentor']"
      ]
     },
     "execution_count": 75,
     "metadata": {},
     "output_type": "execute_result"
    }
   ],
   "source": [
    "list(d6.keys())"
   ]
  },
  {
   "cell_type": "code",
   "execution_count": 76,
   "id": "45876947",
   "metadata": {},
   "outputs": [
    {
     "data": {
      "text/plain": [
       "[(1, 2, 3, 42, 8),\n",
       " {1, 18, 23},\n",
       " {'web dev': '8 :00', 'DS': '9:00', 'Java': '10 :00'},\n",
       " ['sudhanshu', 'krish', 'anurag', 'haydar']]"
      ]
     },
     "execution_count": 76,
     "metadata": {},
     "output_type": "execute_result"
    }
   ],
   "source": [
    "list(d6.values())"
   ]
  },
  {
   "cell_type": "code",
   "execution_count": 78,
   "id": "69751de5",
   "metadata": {},
   "outputs": [
    {
     "data": {
      "text/plain": [
       "[('assingments', (1, 2, 3, 42, 8)),\n",
       " ('launch_Date', {1, 18, 23}),\n",
       " ('classTiming', {'web dev': '8 :00', 'DS': '9:00', 'Java': '10 :00'}),\n",
       " ('mentor', ['sudhanshu', 'krish', 'anurag', 'haydar'])]"
      ]
     },
     "execution_count": 78,
     "metadata": {},
     "output_type": "execute_result"
    }
   ],
   "source": [
    "list(d6.items())"
   ]
  },
  {
   "cell_type": "code",
   "execution_count": 85,
   "id": "c10e1454",
   "metadata": {},
   "outputs": [
    {
     "data": {
      "text/plain": [
       "{'launch_Date': {1, 18, 23},\n",
       " 'classTiming': {'web dev': '8 :00', 'DS': '9:00', 'Java': '10 :00'},\n",
       " 'mentor': ['sudhanshu', 'krish', 'anurag', 'haydar']}"
      ]
     },
     "execution_count": 85,
     "metadata": {},
     "output_type": "execute_result"
    }
   ],
   "source": [
    "d6"
   ]
  },
  {
   "cell_type": "code",
   "execution_count": null,
   "id": "76f86e89",
   "metadata": {},
   "outputs": [],
   "source": []
  }
 ],
 "metadata": {
  "kernelspec": {
   "display_name": "Python 3 (ipykernel)",
   "language": "python",
   "name": "python3"
  },
  "language_info": {
   "codemirror_mode": {
    "name": "ipython",
    "version": 3
   },
   "file_extension": ".py",
   "mimetype": "text/x-python",
   "name": "python",
   "nbconvert_exporter": "python",
   "pygments_lexer": "ipython3",
   "version": "3.10.9"
  }
 },
 "nbformat": 4,
 "nbformat_minor": 5
}
