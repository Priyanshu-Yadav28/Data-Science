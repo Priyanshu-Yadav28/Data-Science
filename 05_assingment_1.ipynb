{
 "cells": [
  {
   "cell_type": "code",
   "execution_count": 1,
   "id": "8c107eed",
   "metadata": {},
   "outputs": [
    {
     "name": "stdout",
     "output_type": "stream",
     "text": [
      "1\n",
      "2\n",
      "3\n",
      "4\n",
      "5\n"
     ]
    }
   ],
   "source": [
    "# Q1. Explain with an example each when to use a for loop and a while loop.\n",
    "\n",
    "# ans = A for loop is used where we know the final condition or the number of iterations we  need to perform in advance. \n",
    "# for example \n",
    "l = [1, 2, 3, 4, 5]\n",
    "\n",
    "for i in l :\n",
    "    print(i)\n",
    "# here we know that to print all the elements of the loop we have to iterate over all the elements till end in the list \n",
    "\n",
    "# a while loop is used where a certain condition is needed to meet so that depending on the condition the program has\n",
    "# to go further or not for example \n",
    "l1 = [1, 3, 4, 8, 7]\n",
    "start = 0\n",
    "end = len(l1)\n",
    "mid = start + (end - start) / 2\n",
    "# and in this case if the condition start <= end is true then only we have to let the program go further hence here we can \n",
    "# use the while loop with conditon as while(start <= end)"
   ]
  },
  {
   "cell_type": "code",
   "execution_count": 2,
   "id": "d5fa2bac",
   "metadata": {},
   "outputs": [],
   "source": [
    "# Q2. Write a python program to print the sum and product of the first 10 natural numbers using for\n",
    "# and while loop.\n",
    "\n",
    "# sum using for loop\n",
    "numbers = range(1, 11)\n",
    "sum = 0\n",
    "for i in numbers :\n",
    "    sum = sum + i\n",
    "sum\n",
    "\n",
    "# # sum using while loop\n",
    "sum_while = 0\n",
    "n = 1\n",
    "while(n <= 10) :\n",
    "    sum_while += n\n",
    "    n = n + 1\n",
    "sum_while\n",
    "\n",
    "# product using for loop \n",
    "product = 1\n",
    "for i in numbers :\n",
    "    product *= i\n",
    "\n",
    "product\n",
    "\n",
    "\n",
    "# product using while loop \n",
    "num = 1\n",
    "pro = 1\n",
    "while num <= 10 : \n",
    "    pro *= num\n",
    "    num += 1"
   ]
  },
  {
   "cell_type": "code",
   "execution_count": null,
   "id": "43b4c5d5",
   "metadata": {},
   "outputs": [],
   "source": []
  },
  {
   "cell_type": "code",
   "execution_count": 15,
   "id": "6ac37935",
   "metadata": {},
   "outputs": [
    {
     "name": "stdout",
     "output_type": "stream",
     "text": [
      "Enter the Units of electricity consumend for this month310\n",
      "2250.0\n"
     ]
    }
   ],
   "source": [
    "# Q3. Create a python program to compute the electricity bill for a household.\n",
    "# The per-unit charges in rupees are as follows: For the first 100 units, the user will be charged Rs. 4.5 per\n",
    "# unit, for the next 100 units, the user will be charged Rs. 6 per unit, and for the next 100 units, the user will\n",
    "# be charged Rs. 10 per unit, After 300 units and above the user will be charged Rs. 20 per unit.\n",
    "# You are required to take the units of electricity consumed in a month from the user as input.\n",
    "# Your program must pass this test case: when the unit of electricity consumed by the user in a month is\n",
    "# 310, the total electricity bill should be 2250.\n",
    "\n",
    "units = float(input(\"Enter the Units of electricity consumend for this month\"))\n",
    "totalBill = 0\n",
    "if units <= 100 :\n",
    "    totalBill = 100 * 4.5\n",
    "    print(totalBill)\n",
    "elif units <= 200 :\n",
    "    totalBill = (100 * 4.5) + ((units - 100) * 6)\n",
    "    print(totalBill)\n",
    "elif units <= 300 :\n",
    "    totalBill = (100 * 4.5) + (100 * 6) + ((units - 200) * 10)\n",
    "    print(totalBill)\n",
    "else :\n",
    "    totalBill = (100 * 4.5) + (100 * 6) + (100 * 10) + ((units - 300) * 20)\n",
    "    print(totalBill)"
   ]
  },
  {
   "cell_type": "code",
   "execution_count": null,
   "id": "ff28f8c4",
   "metadata": {},
   "outputs": [],
   "source": []
  },
  {
   "cell_type": "code",
   "execution_count": 23,
   "id": "0368d147",
   "metadata": {},
   "outputs": [
    {
     "data": {
      "text/plain": [
       "[2,\n",
       " 4,\n",
       " 5,\n",
       " 6,\n",
       " 8,\n",
       " 10,\n",
       " 12,\n",
       " 14,\n",
       " 15,\n",
       " 16,\n",
       " 18,\n",
       " 20,\n",
       " 22,\n",
       " 24,\n",
       " 25,\n",
       " 26,\n",
       " 28,\n",
       " 30,\n",
       " 32,\n",
       " 34,\n",
       " 35,\n",
       " 36,\n",
       " 38,\n",
       " 40,\n",
       " 42,\n",
       " 44,\n",
       " 45,\n",
       " 46,\n",
       " 48,\n",
       " 50,\n",
       " 52,\n",
       " 54,\n",
       " 55,\n",
       " 56,\n",
       " 58,\n",
       " 60,\n",
       " 62,\n",
       " 64,\n",
       " 65,\n",
       " 66,\n",
       " 68,\n",
       " 70,\n",
       " 72,\n",
       " 74,\n",
       " 75,\n",
       " 76,\n",
       " 78,\n",
       " 80,\n",
       " 82,\n",
       " 84,\n",
       " 85,\n",
       " 86,\n",
       " 88,\n",
       " 90,\n",
       " 92,\n",
       " 94,\n",
       " 95,\n",
       " 96,\n",
       " 98,\n",
       " 100]"
      ]
     },
     "execution_count": 23,
     "metadata": {},
     "output_type": "execute_result"
    }
   ],
   "source": [
    "# Q4. Create a list of numbers from 1 to 100. Use for loop and while loop to calculate the cube of each\n",
    "# number and if the cube of that number is divisible by 4 or 5 then append that number in a list and print\n",
    "# that list.\n",
    "\n",
    "lst = list(range(1, 101))\n",
    "store = []\n",
    "for i in lst :\n",
    "    cube = i * i * i\n",
    "    if cube % 4 == 0 or cube % 5 == 0 :\n",
    "        store.append(i)\n",
    "store\n",
    "        \n",
    "\n"
   ]
  },
  {
   "cell_type": "code",
   "execution_count": 25,
   "id": "8ca3c5ac",
   "metadata": {},
   "outputs": [
    {
     "name": "stdout",
     "output_type": "stream",
     "text": [
      "The number of vowels in string  I want to become a data scientist are 12\n"
     ]
    }
   ],
   "source": [
    "# Q5. Write a program to filter count vowels in the below-given string.\n",
    "# string = \"I want to become a data scientist\"\n",
    "\n",
    "string = \"I want to become a data scientist\"\n",
    "vowels = ['a', 'e', 'i', 'o', 'u']\n",
    "count = 0\n",
    "\n",
    "for i in string.lower() :\n",
    "    if i in vowels :\n",
    "        count = count + 1\n",
    "        \n",
    "print('The number of vowels in string ', string, 'are', count)"
   ]
  },
  {
   "cell_type": "code",
   "execution_count": null,
   "id": "c8858a09",
   "metadata": {},
   "outputs": [],
   "source": []
  }
 ],
 "metadata": {
  "kernelspec": {
   "display_name": "Python 3 (ipykernel)",
   "language": "python",
   "name": "python3"
  },
  "language_info": {
   "codemirror_mode": {
    "name": "ipython",
    "version": 3
   },
   "file_extension": ".py",
   "mimetype": "text/x-python",
   "name": "python",
   "nbconvert_exporter": "python",
   "pygments_lexer": "ipython3",
   "version": "3.10.9"
  }
 },
 "nbformat": 4,
 "nbformat_minor": 5
}
