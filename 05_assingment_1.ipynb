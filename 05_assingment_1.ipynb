{
 "cells": [
  {
   "cell_type": "code",
   "execution_count": 6,
   "id": "8c107eed",
   "metadata": {},
   "outputs": [
    {
     "name": "stdout",
     "output_type": "stream",
     "text": [
      "1\n",
      "2\n",
      "3\n",
      "4\n",
      "5\n"
     ]
    }
   ],
   "source": [
    "# Q1. Explain with an example each when to use a for loop and a while loop.\n",
    "\n",
    "# ans = A for loop is used where we know the final condition or the number of iterations we  need to perform in advance. \n",
    "# for example \n",
    "l = [1, 2, 3, 4, 5]\n",
    "\n",
    "for i in l :\n",
    "    print(i)\n",
    "# here we know that to print all the elements of the loop we have to iterate over all the elements till end in the list \n",
    "\n",
    "# a while loop is used where a certain condition is needed to meet so that depending on the condition the program has\n",
    "# to go further or not for example \n",
    "l1 = [1, 3, 4, 8, 7]\n",
    "start = 0\n",
    "end = len(l1)\n",
    "mid = start + (end - start) / 2\n",
    "# and in this case if the condition start <= end is true then only we have to let the program go further hence here we can \n",
    "# use the while loop with conditon as while(start <= end)"
   ]
  },
  {
   "cell_type": "code",
   "execution_count": null,
   "id": "d5fa2bac",
   "metadata": {},
   "outputs": [],
   "source": [
    "# Q2. Write a python program to print the sum and product of the first 10 natural numbers using for\n",
    "# and while loop.\n",
    "\n",
    "# sum using for loop\n",
    "numbers = range(1, 11)\n",
    "sum = 0\n",
    "for i in numbers :\n",
    "    sum = sum + i\n",
    "sum\n",
    "\n",
    "# sum using while loop\n",
    "sum_while = 0\n",
    "n = 1\n",
    "while(n <= 10) :\n",
    "    sum_while += n\n",
    "    n = n + 1\n",
    "sum_while\n",
    "\n",
    "# product using for loop \n",
    "product = 1\n",
    "for i in numbers :\n",
    "    product *= i\n",
    "\n",
    "product\n",
    "\n",
    "\n",
    "# product using while loop \n",
    "num = 1\n",
    "pro = 1\n",
    "while num <= 10 : \n",
    "    pro *= num\n",
    "    num += 1"
   ]
  },
  {
   "cell_type": "code",
   "execution_count": null,
   "id": "43b4c5d5",
   "metadata": {},
   "outputs": [],
   "source": []
  },
  {
   "cell_type": "code",
   "execution_count": null,
   "id": "6ac37935",
   "metadata": {},
   "outputs": [],
   "source": [
    "# Q3. Create a python program to compute the electricity bill for a household.\n",
    "# The per-unit charges in rupees are as follows: For the first 100 units, the user will be charged Rs. 4.5 per\n",
    "# unit, for the next 100 units, the user will be charged Rs. 6 per unit, and for the next 100 units, the user will\n",
    "# be charged Rs. 10 per unit, After 300 units and above the user will be charged Rs. 20 per unit.\n",
    "# You are required to take the units of electricity consumed in a month from the user as input.\n",
    "# Your program must pass this test case: when the unit of electricity consumed by the user in a month is\n",
    "# 310, the total electricity bill should be 2250.\n",
    "\n",
    "units = float(i)"
   ]
  }
 ],
 "metadata": {
  "kernelspec": {
   "display_name": "Python 3 (ipykernel)",
   "language": "python",
   "name": "python3"
  },
  "language_info": {
   "codemirror_mode": {
    "name": "ipython",
    "version": 3
   },
   "file_extension": ".py",
   "mimetype": "text/x-python",
   "name": "python",
   "nbconvert_exporter": "python",
   "pygments_lexer": "ipython3",
   "version": "3.10.9"
  }
 },
 "nbformat": 4,
 "nbformat_minor": 5
}
