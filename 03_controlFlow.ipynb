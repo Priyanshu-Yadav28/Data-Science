{
 "cells": [
  {
   "cell_type": "code",
   "execution_count": 1,
   "id": "44080bfb",
   "metadata": {},
   "outputs": [],
   "source": [
    "#control statement"
   ]
  },
  {
   "cell_type": "code",
   "execution_count": null,
   "id": "ad4c4395",
   "metadata": {},
   "outputs": [],
   "source": []
  },
  {
   "cell_type": "code",
   "execution_count": 2,
   "id": "4a1cac3b",
   "metadata": {},
   "outputs": [
    {
     "name": "stdout",
     "output_type": "stream",
     "text": [
      "Enter the marks500\n",
      "You will be the part of A0 batch\n"
     ]
    }
   ],
   "source": [
    "marks = int(input(\"Enter the marks\"))\n",
    "\n",
    "if marks >= 80 :\n",
    "    print(\"You will be the part of A0 batch\")\n",
    "elif marks >= 60 and marks < 80:\n",
    "    print(\"You will be the part of A1 batch\")\n",
    "elif marks >= 40 and marks < 60:\n",
    "    print(\"you will be the part of A2 batch\")\n",
    "else : \n",
    "    Print(\"you will be the part of A3 batch\")\n",
    "        \n",
    "    "
   ]
  },
  {
   "cell_type": "code",
   "execution_count": 3,
   "id": "58641640",
   "metadata": {},
   "outputs": [
    {
     "name": "stdout",
     "output_type": "stream",
     "text": [
      "Enter the price of the item1200\n"
     ]
    }
   ],
   "source": [
    "# price = input(\"Enter the price \")\n",
    "price = int(input(\"Enter the price of the item\"))"
   ]
  },
  {
   "cell_type": "code",
   "execution_count": 6,
   "id": "da201eba",
   "metadata": {},
   "outputs": [
    {
     "name": "stdout",
     "output_type": "stream",
     "text": [
      "i will not purchase the item\n"
     ]
    }
   ],
   "source": [
    "if price >= 1000 : \n",
    "    print(\"i will not purchase the item\")\n",
    "else :\n",
    "    print(\"I will purchase the item\")"
   ]
  },
  {
   "cell_type": "code",
   "execution_count": 8,
   "id": "ac48e117",
   "metadata": {},
   "outputs": [
    {
     "name": "stdout",
     "output_type": "stream",
     "text": [
      "Enter the amount7000\n",
      "I wont buy it\n",
      "This is too much\n"
     ]
    }
   ],
   "source": [
    "amount = int(input(\"Enter the amount\"))\n",
    "if amount > 1000 :\n",
    "    print(\"I wont buy it\")\n",
    "    if amount > 3000 :\n",
    "        print(\"This is too much\")"
   ]
  },
  {
   "cell_type": "code",
   "execution_count": null,
   "id": "83f67ebc",
   "metadata": {},
   "outputs": [],
   "source": []
  }
 ],
 "metadata": {
  "kernelspec": {
   "display_name": "Python 3 (ipykernel)",
   "language": "python",
   "name": "python3"
  },
  "language_info": {
   "codemirror_mode": {
    "name": "ipython",
    "version": 3
   },
   "file_extension": ".py",
   "mimetype": "text/x-python",
   "name": "python",
   "nbconvert_exporter": "python",
   "pygments_lexer": "ipython3",
   "version": "3.10.9"
  }
 },
 "nbformat": 4,
 "nbformat_minor": 5
}
