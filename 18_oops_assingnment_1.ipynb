{
 "cells": [
  {
   "cell_type": "code",
   "execution_count": 209,
   "id": "4c667990",
   "metadata": {},
   "outputs": [],
   "source": [
    "# Q1, Create a vehicle class with an init method having instance variables as name_of_vehicle, max_speed\n",
    "# and average_of_vehicle."
   ]
  },
  {
   "cell_type": "code",
   "execution_count": 210,
   "id": "fe3df8b4",
   "metadata": {},
   "outputs": [],
   "source": [
    "class vehicle :\n",
    "    \n",
    "    def __init__(self, name_of_vehicle, max_speed, average_of_vehicle) :\n",
    "        self.name_of_vehicle = name_of_vehicle\n",
    "        self.max_speed = max_speed\n",
    "        self.average_of_vehicle = average_of_vehicle\n",
    "        \n",
    "    "
   ]
  },
  {
   "cell_type": "code",
   "execution_count": 211,
   "id": "88eac6ae",
   "metadata": {},
   "outputs": [],
   "source": [
    "amgGlc = vehicle(\"merceds\", 330, 9)"
   ]
  },
  {
   "cell_type": "code",
   "execution_count": 212,
   "id": "0226cf1e",
   "metadata": {},
   "outputs": [
    {
     "name": "stdout",
     "output_type": "stream",
     "text": [
      "merceds\n"
     ]
    }
   ],
   "source": [
    "print(amgGlc.name_of_vehicle)"
   ]
  },
  {
   "cell_type": "code",
   "execution_count": 213,
   "id": "007efc24",
   "metadata": {},
   "outputs": [],
   "source": [
    "# Q2. Create a child class car from the vehicle class created in Que 1, which will inherit the vehicle class.\n",
    "# Create a method named seating_capacity which takes capacity as an argument and returns the name of\n",
    "# the vehicle and its seating capacity."
   ]
  },
  {
   "cell_type": "code",
   "execution_count": 214,
   "id": "e4abef9a",
   "metadata": {},
   "outputs": [],
   "source": [
    "class car(vehicle) : \n",
    "\n",
    "    def seating_capacity(self, capacity) :\n",
    "        return self.name_of_vehicle, capacity"
   ]
  },
  {
   "cell_type": "code",
   "execution_count": 215,
   "id": "91cf0357",
   "metadata": {},
   "outputs": [],
   "source": [
    "mercedes = car(\"amgGlc43\", 450, 10)"
   ]
  },
  {
   "cell_type": "code",
   "execution_count": 216,
   "id": "13c974d0",
   "metadata": {},
   "outputs": [
    {
     "data": {
      "text/plain": [
       "('amgGlc43', 5)"
      ]
     },
     "execution_count": 216,
     "metadata": {},
     "output_type": "execute_result"
    }
   ],
   "source": [
    "mercedes.seating_capacity(5)"
   ]
  },
  {
   "cell_type": "code",
   "execution_count": 217,
   "id": "e0ad3cc8",
   "metadata": {},
   "outputs": [],
   "source": [
    "# Q3. What is multiple inheritance? Write a python code to demonstrate multiple inheritance."
   ]
  },
  {
   "cell_type": "code",
   "execution_count": 218,
   "id": "af8dcd72",
   "metadata": {},
   "outputs": [],
   "source": [
    "# when a single class inherits two or more (multiple) classes then this type of inheritance is known as \n",
    "# multiple inheritance \n",
    "# example \n"
   ]
  },
  {
   "cell_type": "code",
   "execution_count": 219,
   "id": "7571f5f3",
   "metadata": {},
   "outputs": [],
   "source": [
    "class class1 :\n",
    "    \n",
    "    def method_class1(self) :\n",
    "        return \"This is a method from class 1\""
   ]
  },
  {
   "cell_type": "code",
   "execution_count": 220,
   "id": "c047ba3f",
   "metadata": {},
   "outputs": [],
   "source": [
    "class class2 : \n",
    "    \n",
    "    def method_class2(self) :\n",
    "        return \"This is a method from class 2\""
   ]
  },
  {
   "cell_type": "code",
   "execution_count": 221,
   "id": "36322b42",
   "metadata": {},
   "outputs": [],
   "source": [
    "class class3(class1, class2) :\n",
    "    \n",
    "    def method_class3(self) :\n",
    "        return \"This is a method from class 3\""
   ]
  },
  {
   "cell_type": "code",
   "execution_count": 222,
   "id": "5065d9e1",
   "metadata": {},
   "outputs": [],
   "source": [
    "obj = class3()"
   ]
  },
  {
   "cell_type": "code",
   "execution_count": 224,
   "id": "720bbe7b",
   "metadata": {},
   "outputs": [
    {
     "data": {
      "text/plain": [
       "'This is a method from class 1'"
      ]
     },
     "execution_count": 224,
     "metadata": {},
     "output_type": "execute_result"
    }
   ],
   "source": [
    "obj.method_class1()"
   ]
  },
  {
   "cell_type": "code",
   "execution_count": 225,
   "id": "e134bb1e",
   "metadata": {},
   "outputs": [],
   "source": [
    "# Q4. What are getter and setter in python? Create a class and create a getter and a setter method in this\n",
    "# class.\n",
    "\n",
    "# ans 4 = In python when we declare the variables in the constructors private then we cannot directly \n",
    "# fetch the value and  make changes in it . so getters the the special methods written inside the class\n",
    "# which are used to fetch the values or print them on the screen whereas setter are the methods by the\n",
    "# help of which we can set or change the value of a variable and not directly by using the dot operator"
   ]
  },
  {
   "cell_type": "code",
   "execution_count": 229,
   "id": "33e13883",
   "metadata": {},
   "outputs": [],
   "source": [
    "# example \n",
    "class student_detail :\n",
    "    \n",
    "    def __init__(self, uid , name, marks) :\n",
    "        self.__uid = uid\n",
    "        self.__name = name\n",
    "        self.__marks = marks\n",
    "        \n",
    "    def setter(self, newMarks) :\n",
    "         self.__marks = newMarks\n",
    "    \n",
    "    def getter(self) :\n",
    "        print(\"The uid of the student is \", self.__uid, \"name is\", self.__name, \"marks is\", self.__marks)\n",
    "    \n",
    "    "
   ]
  },
  {
   "cell_type": "code",
   "execution_count": 230,
   "id": "f11feeed",
   "metadata": {},
   "outputs": [],
   "source": [
    "student = student_detail(\"21BCS6104\", \"Priyanshu\", 8.1)"
   ]
  },
  {
   "cell_type": "code",
   "execution_count": 231,
   "id": "63a4277a",
   "metadata": {},
   "outputs": [
    {
     "name": "stdout",
     "output_type": "stream",
     "text": [
      "The uid of the student is  21BCS6104 name is Priyanshu marks is 8.1\n"
     ]
    }
   ],
   "source": [
    "student.getter()"
   ]
  },
  {
   "cell_type": "code",
   "execution_count": 232,
   "id": "acd5f47b",
   "metadata": {},
   "outputs": [],
   "source": [
    "student.setter(7.90)"
   ]
  },
  {
   "cell_type": "code",
   "execution_count": 233,
   "id": "0895b5e3",
   "metadata": {},
   "outputs": [
    {
     "name": "stdout",
     "output_type": "stream",
     "text": [
      "The uid of the student is  21BCS6104 name is Priyanshu marks is 7.9\n"
     ]
    }
   ],
   "source": [
    "student.getter()"
   ]
  },
  {
   "cell_type": "code",
   "execution_count": null,
   "id": "b9b312e3",
   "metadata": {},
   "outputs": [],
   "source": []
  }
 ],
 "metadata": {
  "kernelspec": {
   "display_name": "Python 3 (ipykernel)",
   "language": "python",
   "name": "python3"
  },
  "language_info": {
   "codemirror_mode": {
    "name": "ipython",
    "version": 3
   },
   "file_extension": ".py",
   "mimetype": "text/x-python",
   "name": "python",
   "nbconvert_exporter": "python",
   "pygments_lexer": "ipython3",
   "version": "3.10.9"
  }
 },
 "nbformat": 4,
 "nbformat_minor": 5
}
