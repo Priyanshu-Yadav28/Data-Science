{
 "cells": [
  {
   "cell_type": "code",
   "execution_count": 209,
   "id": "8c27b61e",
   "metadata": {},
   "outputs": [],
   "source": [
    "# Q1, Create a vehicle class with an init method having instance variables as name_of_vehicle, max_speed\n",
    "# and average_of_vehicle."
   ]
  },
  {
   "cell_type": "code",
   "execution_count": 210,
   "id": "9668e733",
   "metadata": {},
   "outputs": [],
   "source": [
    "class vehicle :\n",
    "    \n",
    "    def __init__(self, name_of_vehicle, max_speed, average_of_vehicle) :\n",
    "        self.name_of_vehicle = name_of_vehicle\n",
    "        self.max_speed = max_speed\n",
    "        self.average_of_vehicle = average_of_vehicle\n",
    "        \n",
    "    "
   ]
  },
  {
   "cell_type": "code",
   "execution_count": 211,
   "id": "29a32b2e",
   "metadata": {},
   "outputs": [],
   "source": [
    "amgGlc = vehicle(\"merceds\", 330, 9)"
   ]
  },
  {
   "cell_type": "code",
   "execution_count": 212,
   "id": "19304821",
   "metadata": {},
   "outputs": [
    {
     "name": "stdout",
     "output_type": "stream",
     "text": [
      "merceds\n"
     ]
    }
   ],
   "source": [
    "print(amgGlc.name_of_vehicle)"
   ]
  },
  {
   "cell_type": "code",
   "execution_count": 213,
   "id": "63845213",
   "metadata": {},
   "outputs": [],
   "source": [
    "# Q2. Create a child class car from the vehicle class created in Que 1, which will inherit the vehicle class.\n",
    "# Create a method named seating_capacity which takes capacity as an argument and returns the name of\n",
    "# the vehicle and its seating capacity."
   ]
  },
  {
   "cell_type": "code",
   "execution_count": 214,
   "id": "67c23557",
   "metadata": {},
   "outputs": [],
   "source": [
    "class car(vehicle) : \n",
    "\n",
    "    def seating_capacity(self, capacity) :\n",
    "        return self.name_of_vehicle, capacity"
   ]
  },
  {
   "cell_type": "code",
   "execution_count": 215,
   "id": "02b43341",
   "metadata": {},
   "outputs": [],
   "source": [
    "mercedes = car(\"amgGlc43\", 450, 10)"
   ]
  },
  {
   "cell_type": "code",
   "execution_count": 216,
   "id": "b7b023cc",
   "metadata": {},
   "outputs": [
    {
     "data": {
      "text/plain": [
       "('amgGlc43', 5)"
      ]
     },
     "execution_count": 216,
     "metadata": {},
     "output_type": "execute_result"
    }
   ],
   "source": [
    "mercedes.seating_capacity(5)"
   ]
  },
  {
   "cell_type": "code",
   "execution_count": 217,
   "id": "9bc69636",
   "metadata": {},
   "outputs": [],
   "source": [
    "# Q3. What is multiple inheritance? Write a python code to demonstrate multiple inheritance."
   ]
  },
  {
   "cell_type": "code",
   "execution_count": 218,
   "id": "62052a27",
   "metadata": {},
   "outputs": [],
   "source": [
    "# when a single class inherits two or more (multiple) classes then this type of inheritance is known as \n",
    "# multiple inheritance \n",
    "# example \n"
   ]
  },
  {
   "cell_type": "code",
   "execution_count": 219,
   "id": "893d2d25",
   "metadata": {},
   "outputs": [],
   "source": [
    "class class1 :\n",
    "    \n",
    "    def method_class1(self) :\n",
    "        return \"This is a method from class 1\""
   ]
  },
  {
   "cell_type": "code",
   "execution_count": 220,
   "id": "cf002ff1",
   "metadata": {},
   "outputs": [],
   "source": [
    "class class2 : \n",
    "    \n",
    "    def method_class2(self) :\n",
    "        return \"This is a method from class 2\""
   ]
  },
  {
   "cell_type": "code",
   "execution_count": 221,
   "id": "3d56ba7e",
   "metadata": {},
   "outputs": [],
   "source": [
    "class class3(class1, class2) :\n",
    "    \n",
    "    def method_class3(self) :\n",
    "        return \"This is a method from class 3\""
   ]
  },
  {
   "cell_type": "code",
   "execution_count": 222,
   "id": "b2756fe9",
   "metadata": {},
   "outputs": [],
   "source": [
    "obj = class3()"
   ]
  },
  {
   "cell_type": "code",
   "execution_count": 224,
   "id": "79ec67ba",
   "metadata": {},
   "outputs": [
    {
     "data": {
      "text/plain": [
       "'This is a method from class 1'"
      ]
     },
     "execution_count": 224,
     "metadata": {},
     "output_type": "execute_result"
    }
   ],
   "source": [
    "obj.method_class1()"
   ]
  },
  {
   "cell_type": "code",
   "execution_count": 225,
   "id": "53524534",
   "metadata": {},
   "outputs": [],
   "source": [
    "# Q4. What are getter and setter in python? Create a class and create a getter and a setter method in this\n",
    "# class.\n",
    "\n",
    "# ans 4 = In python when we declare the variables in the constructors private then we cannot directly \n",
    "# fetch the value and  make changes in it . so getters the the special methods written inside the class\n",
    "# which are used to fetch the values or print them on the screen whereas setter are the methods by the\n",
    "# help of which we can set or change the value of a variable and not directly by using the dot operator"
   ]
  },
  {
   "cell_type": "code",
   "execution_count": 229,
   "id": "5923fed8",
   "metadata": {},
   "outputs": [],
   "source": [
    "# example \n",
    "class student_detail :\n",
    "    \n",
    "    def __init__(self, uid , name, marks) :\n",
    "        self.__uid = uid\n",
    "        self.__name = name\n",
    "        self.__marks = marks\n",
    "        \n",
    "    def setter(self, newMarks) :\n",
    "         self.__marks = newMarks\n",
    "    \n",
    "    def getter(self) :\n",
    "        print(\"The uid of the student is \", self.__uid, \"name is\", self.__name, \"marks is\", self.__marks)\n",
    "    \n",
    "    "
   ]
  },
  {
   "cell_type": "code",
   "execution_count": 230,
   "id": "f68eb899",
   "metadata": {},
   "outputs": [],
   "source": [
    "student = student_detail(\"21BCS6104\", \"Priyanshu\", 8.1)"
   ]
  },
  {
   "cell_type": "code",
   "execution_count": 231,
   "id": "3c75af5f",
   "metadata": {},
   "outputs": [
    {
     "name": "stdout",
     "output_type": "stream",
     "text": [
      "The uid of the student is  21BCS6104 name is Priyanshu marks is 8.1\n"
     ]
    }
   ],
   "source": [
    "student.getter()"
   ]
  },
  {
   "cell_type": "code",
   "execution_count": 232,
   "id": "4056ee30",
   "metadata": {},
   "outputs": [],
   "source": [
    "student.setter(7.90)"
   ]
  },
  {
   "cell_type": "code",
   "execution_count": 233,
   "id": "e253d95e",
   "metadata": {},
   "outputs": [
    {
     "name": "stdout",
     "output_type": "stream",
     "text": [
      "The uid of the student is  21BCS6104 name is Priyanshu marks is 7.9\n"
     ]
    }
   ],
   "source": [
    "student.getter()"
   ]
  },
  {
   "cell_type": "code",
   "execution_count": 234,
   "id": "b97ebf8f",
   "metadata": {},
   "outputs": [],
   "source": [
    "# Q5.What is method overriding in python? Write a python code to demonstrate method overriding.\n",
    "# ans 5 = method overriding in python is the process of creating a method and inside the argument of the method \n",
    "# we do not define the exact number of arguments to be passed while calling the function instead we\n",
    "# use *args and it handles the operation for any number of arguments passed. example \n",
    "\n",
    "class sum :\n",
    "    def add(self, *args) :\n",
    "        if len(args) == 2 :\n",
    "            return args[0] + args[1]\n",
    "        elif len(args) == 3 :\n",
    "            return args[0] + args[1] + args[2]\n",
    "        else :\n",
    "            print(\"Invalid number of arguments !\")\n"
   ]
  },
  {
   "cell_type": "code",
   "execution_count": 236,
   "id": "eb7d9089",
   "metadata": {},
   "outputs": [],
   "source": [
    "addition = sum()"
   ]
  },
  {
   "cell_type": "code",
   "execution_count": 237,
   "id": "75e9a73f",
   "metadata": {},
   "outputs": [
    {
     "data": {
      "text/plain": [
       "7"
      ]
     },
     "execution_count": 237,
     "metadata": {},
     "output_type": "execute_result"
    }
   ],
   "source": [
    "addition.add(5, 2)"
   ]
  },
  {
   "cell_type": "code",
   "execution_count": 238,
   "id": "16a766d4",
   "metadata": {},
   "outputs": [
    {
     "data": {
      "text/plain": [
       "14"
      ]
     },
     "execution_count": 238,
     "metadata": {},
     "output_type": "execute_result"
    }
   ],
   "source": [
    "addition.add(5, 1, 8)"
   ]
  },
  {
   "cell_type": "code",
   "execution_count": null,
   "id": "78115f77",
   "metadata": {},
   "outputs": [],
   "source": []
  }
 ],
 "metadata": {
  "kernelspec": {
   "display_name": "Python 3 (ipykernel)",
   "language": "python",
   "name": "python3"
  },
  "language_info": {
   "codemirror_mode": {
    "name": "ipython",
    "version": 3
   },
   "file_extension": ".py",
   "mimetype": "text/x-python",
   "name": "python",
   "nbconvert_exporter": "python",
   "pygments_lexer": "ipython3",
   "version": "3.10.9"
  }
 },
 "nbformat": 4,
 "nbformat_minor": 5
}
