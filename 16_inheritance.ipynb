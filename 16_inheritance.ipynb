{
 "cells": [
  {
   "cell_type": "code",
   "execution_count": 13,
   "id": "542b25e7",
   "metadata": {},
   "outputs": [
    {
     "name": "stdout",
     "output_type": "stream",
     "text": [
      "Inheritance in python OOPs\n"
     ]
    }
   ],
   "source": [
    "print(\"Inheritance in python OOPs\")"
   ]
  },
  {
   "cell_type": "code",
   "execution_count": 14,
   "id": "29419764",
   "metadata": {},
   "outputs": [],
   "source": [
    "class test:\n",
    "    \n",
    "    def test_meth(self) :\n",
    "        return \"this is from test_method of parent class\"\n",
    "    "
   ]
  },
  {
   "cell_type": "code",
   "execution_count": 17,
   "id": "dc510c40",
   "metadata": {},
   "outputs": [],
   "source": [
    "class child_test(test) :\n",
    "    pass\n",
    "# pass means the body is not defined "
   ]
  },
  {
   "cell_type": "code",
   "execution_count": 18,
   "id": "38f16299",
   "metadata": {},
   "outputs": [],
   "source": [
    "child_test_obj = child_test()"
   ]
  },
  {
   "cell_type": "code",
   "execution_count": 32,
   "id": "930571f6",
   "metadata": {},
   "outputs": [
    {
     "data": {
      "text/plain": [
       "'this is from test_method of parent class'"
      ]
     },
     "execution_count": 32,
     "metadata": {},
     "output_type": "execute_result"
    }
   ],
   "source": [
    "child_test_obj.test_meth()"
   ]
  },
  {
   "cell_type": "code",
   "execution_count": null,
   "id": "9b38dfdd",
   "metadata": {},
   "outputs": [],
   "source": [
    "# multilevel inheritance -> "
   ]
  },
  {
   "cell_type": "code",
   "execution_count": 22,
   "id": "73e2518c",
   "metadata": {},
   "outputs": [],
   "source": [
    "class class1:\n",
    "    \n",
    "    def test_class1(self) :\n",
    "        return \"This is a method from class1\"\n",
    "\n"
   ]
  },
  {
   "cell_type": "code",
   "execution_count": 23,
   "id": "6b302a73",
   "metadata": {},
   "outputs": [],
   "source": [
    "class class2(class1) :\n",
    "    \n",
    "    def test_class2(self) :\n",
    "        return \"this is a method from class 2\""
   ]
  },
  {
   "cell_type": "code",
   "execution_count": 24,
   "id": "222ae3b3",
   "metadata": {},
   "outputs": [],
   "source": [
    "class class3(class2) :\n",
    "    pass"
   ]
  },
  {
   "cell_type": "code",
   "execution_count": 25,
   "id": "2afb46cd",
   "metadata": {},
   "outputs": [],
   "source": [
    "# creating object of class 3\n",
    "obj_class3 = class3()"
   ]
  },
  {
   "cell_type": "code",
   "execution_count": 27,
   "id": "3472134e",
   "metadata": {},
   "outputs": [
    {
     "data": {
      "text/plain": [
       "'This is a method from class1'"
      ]
     },
     "execution_count": 27,
     "metadata": {},
     "output_type": "execute_result"
    }
   ],
   "source": [
    "# calling the methods of class 1 and class 2 with the object of class 3\n",
    "obj_class3.test_class1()"
   ]
  },
  {
   "cell_type": "code",
   "execution_count": 28,
   "id": "7313d565",
   "metadata": {},
   "outputs": [
    {
     "data": {
      "text/plain": [
       "'this is a method from class 2'"
      ]
     },
     "execution_count": 28,
     "metadata": {},
     "output_type": "execute_result"
    }
   ],
   "source": [
    "obj_class3.test_class2()"
   ]
  },
  {
   "cell_type": "code",
   "execution_count": 29,
   "id": "48ef2e40",
   "metadata": {},
   "outputs": [],
   "source": [
    "# multiple inheritance -> \n",
    "\n"
   ]
  },
  {
   "cell_type": "code",
   "execution_count": 30,
   "id": "74acd4af",
   "metadata": {},
   "outputs": [],
   "source": [
    "class class1 :\n",
    "    def test_class1(self) :\n",
    "        return \"this is a class1\""
   ]
  },
  {
   "cell_type": "code",
   "execution_count": 31,
   "id": "3b9f87f2",
   "metadata": {},
   "outputs": [],
   "source": [
    "class class2 :\n",
    "    def test_class2(self) :\n",
    "        return \"this is class2\""
   ]
  },
  {
   "cell_type": "code",
   "execution_count": 33,
   "id": "0f508049",
   "metadata": {},
   "outputs": [],
   "source": [
    "class class3(class1, class2) :\n",
    "    pass"
   ]
  },
  {
   "cell_type": "code",
   "execution_count": 34,
   "id": "b863b5e6",
   "metadata": {},
   "outputs": [],
   "source": [
    "obj_class3 = class3()"
   ]
  },
  {
   "cell_type": "code",
   "execution_count": null,
   "id": "187504fe",
   "metadata": {},
   "outputs": [],
   "source": [
    "obj_class3.test_class1"
   ]
  }
 ],
 "metadata": {
  "kernelspec": {
   "display_name": "Python 3 (ipykernel)",
   "language": "python",
   "name": "python3"
  },
  "language_info": {
   "codemirror_mode": {
    "name": "ipython",
    "version": 3
   },
   "file_extension": ".py",
   "mimetype": "text/x-python",
   "name": "python",
   "nbconvert_exporter": "python",
   "pygments_lexer": "ipython3",
   "version": "3.10.9"
  }
 },
 "nbformat": 4,
 "nbformat_minor": 5
}
