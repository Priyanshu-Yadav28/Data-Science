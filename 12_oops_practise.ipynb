{
 "cells": [
  {
   "cell_type": "code",
   "execution_count": 28,
   "id": "3f5ad079",
   "metadata": {},
   "outputs": [
    {
     "name": "stdout",
     "output_type": "stream",
     "text": [
      "creating class and objects in Python\n"
     ]
    }
   ],
   "source": [
    "print(\"creating class and objects in Python\")"
   ]
  },
  {
   "cell_type": "code",
   "execution_count": 29,
   "id": "1f4f3571",
   "metadata": {},
   "outputs": [],
   "source": [
    "# creating a class"
   ]
  },
  {
   "cell_type": "code",
   "execution_count": 30,
   "id": "d2c658e4",
   "metadata": {},
   "outputs": [],
   "source": [
    "class students:\n",
    "    def __init__(self, name, uid, cgpa, package):\n",
    "        self.name = name;\n",
    "        self.uid = uid;s\n",
    "        self.cgpa = cgpa;\n",
    "        self.package = package;\n",
    "        \n",
    "    def print_details(self) :\n",
    "        print(\"name\", self.name)\n",
    "        print(\"uid\", self.uid)\n",
    "        print(\"cgpa\", self.cgpa)\n",
    "        print(\"package\", self.package)"
   ]
  },
  {
   "cell_type": "code",
   "execution_count": 31,
   "id": "44e152b2",
   "metadata": {},
   "outputs": [],
   "source": [
    "student1 = students('Priyanshu', '21BCS6104', 8.00, 5400000)"
   ]
  },
  {
   "cell_type": "code",
   "execution_count": 32,
   "id": "b2544b83",
   "metadata": {},
   "outputs": [],
   "source": [
    "student2 = students('Hariansh', '21BCS6145', 8.10, 3800000)"
   ]
  },
  {
   "cell_type": "code",
   "execution_count": 33,
   "id": "5cc9c008",
   "metadata": {},
   "outputs": [],
   "source": [
    "student3 = students('Shreyas', '21BCS6332', 7.8, 2000000)"
   ]
  },
  {
   "cell_type": "code",
   "execution_count": 34,
   "id": "b2fff49b",
   "metadata": {},
   "outputs": [
    {
     "name": "stdout",
     "output_type": "stream",
     "text": [
      "name Priyanshu\n",
      "uid 21BCS6104\n",
      "cgpa 8.0\n",
      "package 5400000\n",
      "\n",
      "name Hariansh\n",
      "uid 21BCS6145\n",
      "cgpa 8.1\n",
      "package 3800000\n",
      "\n",
      "name Shreyas\n",
      "uid 21BCS6332\n",
      "cgpa 7.8\n",
      "package 2000000\n"
     ]
    }
   ],
   "source": [
    "student1.print_details();\n",
    "print()\n",
    "student2.print_details();\n",
    "print()\n",
    "student3.print_details();"
   ]
  },
  {
   "cell_type": "code",
   "execution_count": null,
   "id": "63132626",
   "metadata": {},
   "outputs": [],
   "source": []
  }
 ],
 "metadata": {
  "kernelspec": {
   "display_name": "Python 3 (ipykernel)",
   "language": "python",
   "name": "python3"
  },
  "language_info": {
   "codemirror_mode": {
    "name": "ipython",
    "version": 3
   },
   "file_extension": ".py",
   "mimetype": "text/x-python",
   "name": "python",
   "nbconvert_exporter": "python",
   "pygments_lexer": "ipython3",
   "version": "3.10.9"
  }
 },
 "nbformat": 4,
 "nbformat_minor": 5
}
