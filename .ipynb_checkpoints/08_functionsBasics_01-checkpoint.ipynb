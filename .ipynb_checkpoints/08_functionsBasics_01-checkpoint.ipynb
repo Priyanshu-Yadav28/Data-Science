{
 "cells": [
  {
   "cell_type": "code",
   "execution_count": 1,
   "id": "4dbd4112",
   "metadata": {},
   "outputs": [],
   "source": [
    "# functions in python "
   ]
  },
  {
   "cell_type": "code",
   "execution_count": 2,
   "id": "faf5025a",
   "metadata": {},
   "outputs": [],
   "source": [
    "# starts with def keyword \n",
    "# increases code reuseablity "
   ]
  },
  {
   "cell_type": "code",
   "execution_count": 3,
   "id": "4b3398f1",
   "metadata": {},
   "outputs": [],
   "source": [
    "def type() :\n",
    "    print(\"Hello from type function \")\n",
    "    "
   ]
  },
  {
   "cell_type": "code",
   "execution_count": 5,
   "id": "31014d81",
   "metadata": {},
   "outputs": [
    {
     "name": "stdout",
     "output_type": "stream",
     "text": [
      "Hello from type function \n"
     ]
    }
   ],
   "source": [
    "type()"
   ]
  },
  {
   "cell_type": "code",
   "execution_count": 6,
   "id": "57934272",
   "metadata": {},
   "outputs": [],
   "source": [
    "def test1() :\n",
    "    print(\"This is my first function\")\n",
    "    "
   ]
  },
  {
   "cell_type": "code",
   "execution_count": 7,
   "id": "b599de04",
   "metadata": {},
   "outputs": [
    {
     "name": "stdout",
     "output_type": "stream",
     "text": [
      "This is my first function\n"
     ]
    }
   ],
   "source": [
    "test1()"
   ]
  },
  {
   "cell_type": "code",
   "execution_count": 8,
   "id": "eb56cf7a",
   "metadata": {},
   "outputs": [],
   "source": [
    "def sum(a, b) :\n",
    "    ans = a + b\n",
    "    return ans"
   ]
  },
  {
   "cell_type": "code",
   "execution_count": 9,
   "id": "c49cab85",
   "metadata": {},
   "outputs": [
    {
     "data": {
      "text/plain": [
       "10"
      ]
     },
     "execution_count": 9,
     "metadata": {},
     "output_type": "execute_result"
    }
   ],
   "source": [
    "sum(5, 5)"
   ]
  },
  {
   "cell_type": "code",
   "execution_count": 10,
   "id": "0243f572",
   "metadata": {},
   "outputs": [],
   "source": [
    "def func() :\n",
    "    str = \"Hello\"\n",
    "    return str"
   ]
  },
  {
   "cell_type": "code",
   "execution_count": 11,
   "id": "a23d2a55",
   "metadata": {},
   "outputs": [],
   "source": [
    "word = func() + 'hi'"
   ]
  },
  {
   "cell_type": "code",
   "execution_count": 12,
   "id": "c1cf62fd",
   "metadata": {},
   "outputs": [
    {
     "data": {
      "text/plain": [
       "'Hellohi'"
      ]
     },
     "execution_count": 12,
     "metadata": {},
     "output_type": "execute_result"
    }
   ],
   "source": [
    "word"
   ]
  },
  {
   "cell_type": "code",
   "execution_count": 13,
   "id": "266fcfb2",
   "metadata": {},
   "outputs": [],
   "source": [
    "def func3() :\n",
    "    return \"sudh\", 23, 345.323, [1, 2, 3]"
   ]
  },
  {
   "cell_type": "code",
   "execution_count": 14,
   "id": "982aab0b",
   "metadata": {},
   "outputs": [
    {
     "data": {
      "text/plain": [
       "('sudh', 23, 345.323, [1, 2, 3])"
      ]
     },
     "execution_count": 14,
     "metadata": {},
     "output_type": "execute_result"
    }
   ],
   "source": [
    "func3()"
   ]
  },
  {
   "cell_type": "code",
   "execution_count": 15,
   "id": "29babef7",
   "metadata": {},
   "outputs": [],
   "source": [
    "a, b, c, d =  func3()"
   ]
  },
  {
   "cell_type": "code",
   "execution_count": 16,
   "id": "95416da7",
   "metadata": {},
   "outputs": [
    {
     "data": {
      "text/plain": [
       "'sudh'"
      ]
     },
     "execution_count": 16,
     "metadata": {},
     "output_type": "execute_result"
    }
   ],
   "source": [
    "a"
   ]
  },
  {
   "cell_type": "code",
   "execution_count": 17,
   "id": "8e35ac9b",
   "metadata": {},
   "outputs": [
    {
     "data": {
      "text/plain": [
       "23"
      ]
     },
     "execution_count": 17,
     "metadata": {},
     "output_type": "execute_result"
    }
   ],
   "source": [
    "b"
   ]
  },
  {
   "cell_type": "code",
   "execution_count": 18,
   "id": "f605667b",
   "metadata": {},
   "outputs": [
    {
     "data": {
      "text/plain": [
       "345.323"
      ]
     },
     "execution_count": 18,
     "metadata": {},
     "output_type": "execute_result"
    }
   ],
   "source": [
    "c"
   ]
  },
  {
   "cell_type": "code",
   "execution_count": 19,
   "id": "e8fef57b",
   "metadata": {},
   "outputs": [
    {
     "data": {
      "text/plain": [
       "[1, 2, 3]"
      ]
     },
     "execution_count": 19,
     "metadata": {},
     "output_type": "execute_result"
    }
   ],
   "source": [
    "d"
   ]
  },
  {
   "cell_type": "code",
   "execution_count": 24,
   "id": "9a4047bc",
   "metadata": {},
   "outputs": [],
   "source": [
    "def test4() :\n",
    "    a = ((5 + 6) / 7)\n",
    "    return a"
   ]
  },
  {
   "cell_type": "code",
   "execution_count": 25,
   "id": "b99390e6",
   "metadata": {},
   "outputs": [
    {
     "data": {
      "text/plain": [
       "1.5714285714285714"
      ]
     },
     "execution_count": 25,
     "metadata": {},
     "output_type": "execute_result"
    }
   ],
   "source": [
    "test4()"
   ]
  },
  {
   "cell_type": "code",
   "execution_count": 26,
   "id": "6616757c",
   "metadata": {},
   "outputs": [],
   "source": [
    "def test5(a, b, c) :\n",
    "    ans = a * b / c\n",
    "    return ans"
   ]
  },
  {
   "cell_type": "code",
   "execution_count": 27,
   "id": "340e43a1",
   "metadata": {},
   "outputs": [
    {
     "data": {
      "text/plain": [
       "2.0"
      ]
     },
     "execution_count": 27,
     "metadata": {},
     "output_type": "execute_result"
    }
   ],
   "source": [
    "test5(2, 2, 2)"
   ]
  },
  {
   "cell_type": "code",
   "execution_count": 28,
   "id": "d3777db1",
   "metadata": {},
   "outputs": [],
   "source": [
    "def test6(a, b) :\n",
    "    return (a + b)"
   ]
  },
  {
   "cell_type": "code",
   "execution_count": 50,
   "id": "635ef6db",
   "metadata": {},
   "outputs": [
    {
     "data": {
      "text/plain": [
       "[1, 2, 3, 4, 4, 5, 6]"
      ]
     },
     "execution_count": 50,
     "metadata": {},
     "output_type": "execute_result"
    }
   ],
   "source": [
    "test6([1, 2, 3, 4], [4, 5, 6])"
   ]
  },
  {
   "cell_type": "code",
   "execution_count": 51,
   "id": "1e7e2188",
   "metadata": {},
   "outputs": [],
   "source": [
    "l = [1, 2, 3, 4, \"sudh\", \"kumar\", [3, 8, 6]]"
   ]
  },
  {
   "cell_type": "code",
   "execution_count": 54,
   "id": "67da40cd",
   "metadata": {},
   "outputs": [],
   "source": [
    "def test7(l) :\n",
    "    l1 = []\n",
    "    for i in l :\n",
    "        if type(i) == int or type(i) == float :\n",
    "            l1.append(i)\n",
    "    return l1"
   ]
  },
  {
   "cell_type": "code",
   "execution_count": 56,
   "id": "769bb8c4",
   "metadata": {},
   "outputs": [
    {
     "data": {
      "text/plain": [
       "[1, 2, 3, 4, 'sudh', 'kumar', [3, 8, 6]]"
      ]
     },
     "execution_count": 56,
     "metadata": {},
     "output_type": "execute_result"
    }
   ],
   "source": [
    "l"
   ]
  },
  {
   "cell_type": "code",
   "execution_count": 57,
   "id": "f2906596",
   "metadata": {},
   "outputs": [
    {
     "data": {
      "text/plain": [
       "[]"
      ]
     },
     "execution_count": 57,
     "metadata": {},
     "output_type": "execute_result"
    }
   ],
   "source": [
    "l1"
   ]
  },
  {
   "cell_type": "code",
   "execution_count": 58,
   "id": "6fc5e84b",
   "metadata": {},
   "outputs": [],
   "source": [
    "def test8(a) :\n",
    "    l = []\n",
    "    for i in a :\n",
    "        if type(i) == list :\n",
    "            for j in i : \n",
    "                l.append(j)\n",
    "        else :\n",
    "            if type(i) == int or type(i) == float :\n",
    "                l.append(i)\n",
    "    return l\n",
    "                                                                                        "
   ]
  },
  {
   "cell_type": "code",
   "execution_count": 60,
   "id": "8a0fa213",
   "metadata": {},
   "outputs": [],
   "source": [
    "# test8(l)"
   ]
  },
  {
   "cell_type": "code",
   "execution_count": 61,
   "id": "f4edc789",
   "metadata": {},
   "outputs": [],
   "source": [
    "def sum(a, b) :\n",
    "    \"\"\"this is my function to add two numbers a, b\"\"\"\n",
    "    sum = a + b\n",
    "    return sum"
   ]
  },
  {
   "cell_type": "code",
   "execution_count": 62,
   "id": "bef81e4b",
   "metadata": {},
   "outputs": [
    {
     "data": {
      "text/plain": [
       "10"
      ]
     },
     "execution_count": 62,
     "metadata": {},
     "output_type": "execute_result"
    }
   ],
   "source": [
    "sum(5, 5)"
   ]
  },
  {
   "cell_type": "code",
   "execution_count": 63,
   "id": "d3c88de3",
   "metadata": {},
   "outputs": [],
   "source": [
    "# dynamically adding the argument \n",
    "def test11(*args) :\n",
    "    return args"
   ]
  },
  {
   "cell_type": "code",
   "execution_count": 66,
   "id": "dffb75bd",
   "metadata": {},
   "outputs": [
    {
     "data": {
      "text/plain": [
       "(2, 1, 3, 'priyanshu', 'yadav', 'RaoSahab', [1, 2, 3, 4, 5])"
      ]
     },
     "execution_count": 66,
     "metadata": {},
     "output_type": "execute_result"
    }
   ],
   "source": [
    "test11(2, 1, 3, \"priyanshu\", \"yadav\", \"RaoSahab\", [1, 2, 3, 4, 5])"
   ]
  },
  {
   "cell_type": "code",
   "execution_count": 71,
   "id": "9c82c65f",
   "metadata": {},
   "outputs": [],
   "source": [
    "def test12(*priyanshu) :\n",
    "    return priyanshu"
   ]
  },
  {
   "cell_type": "code",
   "execution_count": 72,
   "id": "45cab1a6",
   "metadata": {},
   "outputs": [
    {
     "data": {
      "text/plain": [
       "(1, 2, 'RaoSahab', 'RadheRadhe')"
      ]
     },
     "execution_count": 72,
     "metadata": {},
     "output_type": "execute_result"
    }
   ],
   "source": [
    "test12(1, 2, \"RaoSahab\", \"RadheRadhe\")"
   ]
  },
  {
   "cell_type": "code",
   "execution_count": 74,
   "id": "fd282ed4",
   "metadata": {},
   "outputs": [],
   "source": [
    "def test13(*args, a) :\n",
    "    return args, a"
   ]
  },
  {
   "cell_type": "code",
   "execution_count": 75,
   "id": "b3ae86bb",
   "metadata": {},
   "outputs": [
    {
     "data": {
      "text/plain": [
       "((1, 2, 3, 4), 'Ayush')"
      ]
     },
     "execution_count": 75,
     "metadata": {},
     "output_type": "execute_result"
    }
   ],
   "source": [
    "test13(1, 2, 3, 4, a = \"Ayush\")"
   ]
  },
  {
   "cell_type": "code",
   "execution_count": 79,
   "id": "39afe0d5",
   "metadata": {},
   "outputs": [],
   "source": [
    "def test14(c, d, a = 23, b = 1) :\n",
    "    return a, b, c, d"
   ]
  },
  {
   "cell_type": "code",
   "execution_count": null,
   "id": "0109c55c",
   "metadata": {},
   "outputs": [],
   "source": []
  }
 ],
 "metadata": {
  "kernelspec": {
   "display_name": "Python 3 (ipykernel)",
   "language": "python",
   "name": "python3"
  },
  "language_info": {
   "codemirror_mode": {
    "name": "ipython",
    "version": 3
   },
   "file_extension": ".py",
   "mimetype": "text/x-python",
   "name": "python",
   "nbconvert_exporter": "python",
   "pygments_lexer": "ipython3",
   "version": "3.10.9"
  }
 },
 "nbformat": 4,
 "nbformat_minor": 5
}
